{
 "cells": [
  {
   "cell_type": "markdown",
   "metadata": {},
   "source": [
    "<h2 id=\"preprocessing\">Capstone Project: Seattle Collisions</h2>\n",
    "<p> The following lines of code show the methodology behind determining the ideal ML model to predict traffic collisions in the Seattle area. </p>"
   ]
  },
  {
   "cell_type": "code",
   "execution_count": 9,
   "metadata": {
    "scrolled": true
   },
   "outputs": [],
   "source": [
    "import types\n",
    "import pandas as pd\n",
    "import numpy as np\n",
    "from botocore.client import Config\n",
    "import ibm_boto3\n",
    "import matplotlib.pyplot as plt\n",
    "import seaborn as sns\n",
    "from sklearn import preprocessing"
   ]
  },
  {
   "cell_type": "code",
   "execution_count": 10,
   "metadata": {},
   "outputs": [
    {
     "data": {
      "text/html": [
       "<div>\n",
       "<style scoped>\n",
       "    .dataframe tbody tr th:only-of-type {\n",
       "        vertical-align: middle;\n",
       "    }\n",
       "\n",
       "    .dataframe tbody tr th {\n",
       "        vertical-align: top;\n",
       "    }\n",
       "\n",
       "    .dataframe thead th {\n",
       "        text-align: right;\n",
       "    }\n",
       "</style>\n",
       "<table border=\"1\" class=\"dataframe\">\n",
       "  <thead>\n",
       "    <tr style=\"text-align: right;\">\n",
       "      <th></th>\n",
       "      <th>SEVERITYCODE</th>\n",
       "      <th>X</th>\n",
       "      <th>Y</th>\n",
       "      <th>OBJECTID</th>\n",
       "      <th>INCKEY</th>\n",
       "      <th>COLDETKEY</th>\n",
       "      <th>REPORTNO</th>\n",
       "      <th>STATUS</th>\n",
       "      <th>ADDRTYPE</th>\n",
       "      <th>INTKEY</th>\n",
       "      <th>...</th>\n",
       "      <th>ROADCOND</th>\n",
       "      <th>LIGHTCOND</th>\n",
       "      <th>PEDROWNOTGRNT</th>\n",
       "      <th>SDOTCOLNUM</th>\n",
       "      <th>SPEEDING</th>\n",
       "      <th>ST_COLCODE</th>\n",
       "      <th>ST_COLDESC</th>\n",
       "      <th>SEGLANEKEY</th>\n",
       "      <th>CROSSWALKKEY</th>\n",
       "      <th>HITPARKEDCAR</th>\n",
       "    </tr>\n",
       "  </thead>\n",
       "  <tbody>\n",
       "    <tr>\n",
       "      <th>0</th>\n",
       "      <td>2</td>\n",
       "      <td>-122.323148</td>\n",
       "      <td>47.703140</td>\n",
       "      <td>1</td>\n",
       "      <td>1307</td>\n",
       "      <td>1307</td>\n",
       "      <td>3502005</td>\n",
       "      <td>Matched</td>\n",
       "      <td>Intersection</td>\n",
       "      <td>37475.0</td>\n",
       "      <td>...</td>\n",
       "      <td>Wet</td>\n",
       "      <td>Daylight</td>\n",
       "      <td>NaN</td>\n",
       "      <td>NaN</td>\n",
       "      <td>NaN</td>\n",
       "      <td>10</td>\n",
       "      <td>Entering at angle</td>\n",
       "      <td>0</td>\n",
       "      <td>0</td>\n",
       "      <td>N</td>\n",
       "    </tr>\n",
       "    <tr>\n",
       "      <th>1</th>\n",
       "      <td>1</td>\n",
       "      <td>-122.347294</td>\n",
       "      <td>47.647172</td>\n",
       "      <td>2</td>\n",
       "      <td>52200</td>\n",
       "      <td>52200</td>\n",
       "      <td>2607959</td>\n",
       "      <td>Matched</td>\n",
       "      <td>Block</td>\n",
       "      <td>NaN</td>\n",
       "      <td>...</td>\n",
       "      <td>Wet</td>\n",
       "      <td>Dark - Street Lights On</td>\n",
       "      <td>NaN</td>\n",
       "      <td>6354039.0</td>\n",
       "      <td>NaN</td>\n",
       "      <td>11</td>\n",
       "      <td>From same direction - both going straight - bo...</td>\n",
       "      <td>0</td>\n",
       "      <td>0</td>\n",
       "      <td>N</td>\n",
       "    </tr>\n",
       "    <tr>\n",
       "      <th>2</th>\n",
       "      <td>1</td>\n",
       "      <td>-122.334540</td>\n",
       "      <td>47.607871</td>\n",
       "      <td>3</td>\n",
       "      <td>26700</td>\n",
       "      <td>26700</td>\n",
       "      <td>1482393</td>\n",
       "      <td>Matched</td>\n",
       "      <td>Block</td>\n",
       "      <td>NaN</td>\n",
       "      <td>...</td>\n",
       "      <td>Dry</td>\n",
       "      <td>Daylight</td>\n",
       "      <td>NaN</td>\n",
       "      <td>4323031.0</td>\n",
       "      <td>NaN</td>\n",
       "      <td>32</td>\n",
       "      <td>One parked--one moving</td>\n",
       "      <td>0</td>\n",
       "      <td>0</td>\n",
       "      <td>N</td>\n",
       "    </tr>\n",
       "    <tr>\n",
       "      <th>3</th>\n",
       "      <td>1</td>\n",
       "      <td>-122.334803</td>\n",
       "      <td>47.604803</td>\n",
       "      <td>4</td>\n",
       "      <td>1144</td>\n",
       "      <td>1144</td>\n",
       "      <td>3503937</td>\n",
       "      <td>Matched</td>\n",
       "      <td>Block</td>\n",
       "      <td>NaN</td>\n",
       "      <td>...</td>\n",
       "      <td>Dry</td>\n",
       "      <td>Daylight</td>\n",
       "      <td>NaN</td>\n",
       "      <td>NaN</td>\n",
       "      <td>NaN</td>\n",
       "      <td>23</td>\n",
       "      <td>From same direction - all others</td>\n",
       "      <td>0</td>\n",
       "      <td>0</td>\n",
       "      <td>N</td>\n",
       "    </tr>\n",
       "    <tr>\n",
       "      <th>4</th>\n",
       "      <td>2</td>\n",
       "      <td>-122.306426</td>\n",
       "      <td>47.545739</td>\n",
       "      <td>5</td>\n",
       "      <td>17700</td>\n",
       "      <td>17700</td>\n",
       "      <td>1807429</td>\n",
       "      <td>Matched</td>\n",
       "      <td>Intersection</td>\n",
       "      <td>34387.0</td>\n",
       "      <td>...</td>\n",
       "      <td>Wet</td>\n",
       "      <td>Daylight</td>\n",
       "      <td>NaN</td>\n",
       "      <td>4028032.0</td>\n",
       "      <td>NaN</td>\n",
       "      <td>10</td>\n",
       "      <td>Entering at angle</td>\n",
       "      <td>0</td>\n",
       "      <td>0</td>\n",
       "      <td>N</td>\n",
       "    </tr>\n",
       "  </tbody>\n",
       "</table>\n",
       "<p>5 rows × 38 columns</p>\n",
       "</div>"
      ],
      "text/plain": [
       "   SEVERITYCODE           X          Y  OBJECTID  INCKEY  COLDETKEY REPORTNO  \\\n",
       "0             2 -122.323148  47.703140         1    1307       1307  3502005   \n",
       "1             1 -122.347294  47.647172         2   52200      52200  2607959   \n",
       "2             1 -122.334540  47.607871         3   26700      26700  1482393   \n",
       "3             1 -122.334803  47.604803         4    1144       1144  3503937   \n",
       "4             2 -122.306426  47.545739         5   17700      17700  1807429   \n",
       "\n",
       "    STATUS      ADDRTYPE   INTKEY  ... ROADCOND                LIGHTCOND  \\\n",
       "0  Matched  Intersection  37475.0  ...      Wet                 Daylight   \n",
       "1  Matched         Block      NaN  ...      Wet  Dark - Street Lights On   \n",
       "2  Matched         Block      NaN  ...      Dry                 Daylight   \n",
       "3  Matched         Block      NaN  ...      Dry                 Daylight   \n",
       "4  Matched  Intersection  34387.0  ...      Wet                 Daylight   \n",
       "\n",
       "  PEDROWNOTGRNT  SDOTCOLNUM SPEEDING ST_COLCODE  \\\n",
       "0           NaN         NaN      NaN         10   \n",
       "1           NaN   6354039.0      NaN         11   \n",
       "2           NaN   4323031.0      NaN         32   \n",
       "3           NaN         NaN      NaN         23   \n",
       "4           NaN   4028032.0      NaN         10   \n",
       "\n",
       "                                          ST_COLDESC  SEGLANEKEY  \\\n",
       "0                                  Entering at angle           0   \n",
       "1  From same direction - both going straight - bo...           0   \n",
       "2                             One parked--one moving           0   \n",
       "3                   From same direction - all others           0   \n",
       "4                                  Entering at angle           0   \n",
       "\n",
       "   CROSSWALKKEY  HITPARKEDCAR  \n",
       "0             0             N  \n",
       "1             0             N  \n",
       "2             0             N  \n",
       "3             0             N  \n",
       "4             0             N  \n",
       "\n",
       "[5 rows x 38 columns]"
      ]
     },
     "execution_count": 10,
     "metadata": {},
     "output_type": "execute_result"
    }
   ],
   "source": [
    "def __iter__(self): return 0\n",
    "\n",
    "# @hidden_cell\n",
    "# The following code accesses a file in your IBM Cloud Object Storage. It includes your credentials.\n",
    "# You might want to remove those credentials before you share the notebook.\n",
    "client_c7622153ee0b410baef58254573083d7 = ibm_boto3.client(service_name='s3',\n",
    "    ibm_api_key_id='IBbmkGFD_6_lMFcUWQ-DKMh0KxNirTE1YWHnYd3GV9Z5',\n",
    "    ibm_auth_endpoint=\"https://iam.cloud.ibm.com/oidc/token\",\n",
    "    config=Config(signature_version='oauth'),\n",
    "    endpoint_url='https://s3-api.us-geo.objectstorage.service.networklayer.com')\n",
    "\n",
    "body = client_c7622153ee0b410baef58254573083d7.get_object(Bucket='capstoneprojectcollisions-donotdelete-pr-u19eumerzauobv',Key='Data-Collisions.csv')['Body']\n",
    "# add missing __iter__ method, so pandas accepts body as file-like object\n",
    "if not hasattr(body, \"__iter__\"): body.__iter__ = types.MethodType( __iter__, body )\n",
    "\n",
    "df_data_1 = pd.read_csv(body)\n",
    "df_data_1.head()\n",
    "\n",
    "df = df_data_1\n",
    "df.head()"
   ]
  },
  {
   "cell_type": "code",
   "execution_count": 11,
   "metadata": {},
   "outputs": [
    {
     "name": "stdout",
     "output_type": "stream",
     "text": [
      "Total Rows: 194673\n"
     ]
    },
    {
     "data": {
      "text/plain": [
       "1    136485\n",
       "2     58188\n",
       "Name: SEVERITYCODE, dtype: int64"
      ]
     },
     "execution_count": 11,
     "metadata": {},
     "output_type": "execute_result"
    }
   ],
   "source": [
    "print(\"Total Rows:\", len(df))\n",
    "df[\"SEVERITYCODE\"].value_counts(dropna=False)"
   ]
  },
  {
   "cell_type": "code",
   "execution_count": 12,
   "metadata": {},
   "outputs": [
    {
     "data": {
      "text/html": [
       "<div>\n",
       "<style scoped>\n",
       "    .dataframe tbody tr th:only-of-type {\n",
       "        vertical-align: middle;\n",
       "    }\n",
       "\n",
       "    .dataframe tbody tr th {\n",
       "        vertical-align: top;\n",
       "    }\n",
       "\n",
       "    .dataframe thead th {\n",
       "        text-align: right;\n",
       "    }\n",
       "</style>\n",
       "<table border=\"1\" class=\"dataframe\">\n",
       "  <thead>\n",
       "    <tr style=\"text-align: right;\">\n",
       "      <th></th>\n",
       "      <th>Data Types</th>\n",
       "      <th>Null Values</th>\n",
       "    </tr>\n",
       "  </thead>\n",
       "  <tbody>\n",
       "    <tr>\n",
       "      <th>PEDROWNOTGRNT</th>\n",
       "      <td>object</td>\n",
       "      <td>190006</td>\n",
       "    </tr>\n",
       "    <tr>\n",
       "      <th>EXCEPTRSNDESC</th>\n",
       "      <td>object</td>\n",
       "      <td>189035</td>\n",
       "    </tr>\n",
       "    <tr>\n",
       "      <th>SPEEDING</th>\n",
       "      <td>object</td>\n",
       "      <td>185340</td>\n",
       "    </tr>\n",
       "    <tr>\n",
       "      <th>INATTENTIONIND</th>\n",
       "      <td>object</td>\n",
       "      <td>164868</td>\n",
       "    </tr>\n",
       "    <tr>\n",
       "      <th>INTKEY</th>\n",
       "      <td>float64</td>\n",
       "      <td>129603</td>\n",
       "    </tr>\n",
       "    <tr>\n",
       "      <th>EXCEPTRSNCODE</th>\n",
       "      <td>object</td>\n",
       "      <td>109862</td>\n",
       "    </tr>\n",
       "    <tr>\n",
       "      <th>SDOTCOLNUM</th>\n",
       "      <td>float64</td>\n",
       "      <td>79737</td>\n",
       "    </tr>\n",
       "    <tr>\n",
       "      <th>JUNCTIONTYPE</th>\n",
       "      <td>object</td>\n",
       "      <td>6329</td>\n",
       "    </tr>\n",
       "    <tr>\n",
       "      <th>X</th>\n",
       "      <td>float64</td>\n",
       "      <td>5334</td>\n",
       "    </tr>\n",
       "    <tr>\n",
       "      <th>Y</th>\n",
       "      <td>float64</td>\n",
       "      <td>5334</td>\n",
       "    </tr>\n",
       "    <tr>\n",
       "      <th>LIGHTCOND</th>\n",
       "      <td>object</td>\n",
       "      <td>5170</td>\n",
       "    </tr>\n",
       "    <tr>\n",
       "      <th>WEATHER</th>\n",
       "      <td>object</td>\n",
       "      <td>5081</td>\n",
       "    </tr>\n",
       "    <tr>\n",
       "      <th>ROADCOND</th>\n",
       "      <td>object</td>\n",
       "      <td>5012</td>\n",
       "    </tr>\n",
       "    <tr>\n",
       "      <th>ST_COLDESC</th>\n",
       "      <td>object</td>\n",
       "      <td>4904</td>\n",
       "    </tr>\n",
       "    <tr>\n",
       "      <th>COLLISIONTYPE</th>\n",
       "      <td>object</td>\n",
       "      <td>4904</td>\n",
       "    </tr>\n",
       "    <tr>\n",
       "      <th>UNDERINFL</th>\n",
       "      <td>object</td>\n",
       "      <td>4884</td>\n",
       "    </tr>\n",
       "    <tr>\n",
       "      <th>LOCATION</th>\n",
       "      <td>object</td>\n",
       "      <td>2677</td>\n",
       "    </tr>\n",
       "    <tr>\n",
       "      <th>ADDRTYPE</th>\n",
       "      <td>object</td>\n",
       "      <td>1926</td>\n",
       "    </tr>\n",
       "    <tr>\n",
       "      <th>ST_COLCODE</th>\n",
       "      <td>object</td>\n",
       "      <td>18</td>\n",
       "    </tr>\n",
       "    <tr>\n",
       "      <th>SDOT_COLDESC</th>\n",
       "      <td>object</td>\n",
       "      <td>0</td>\n",
       "    </tr>\n",
       "    <tr>\n",
       "      <th>SEGLANEKEY</th>\n",
       "      <td>int64</td>\n",
       "      <td>0</td>\n",
       "    </tr>\n",
       "    <tr>\n",
       "      <th>CROSSWALKKEY</th>\n",
       "      <td>int64</td>\n",
       "      <td>0</td>\n",
       "    </tr>\n",
       "    <tr>\n",
       "      <th>SEVERITYCODE</th>\n",
       "      <td>int64</td>\n",
       "      <td>0</td>\n",
       "    </tr>\n",
       "    <tr>\n",
       "      <th>VEHCOUNT</th>\n",
       "      <td>int64</td>\n",
       "      <td>0</td>\n",
       "    </tr>\n",
       "    <tr>\n",
       "      <th>SDOT_COLCODE</th>\n",
       "      <td>int64</td>\n",
       "      <td>0</td>\n",
       "    </tr>\n",
       "    <tr>\n",
       "      <th>INCDTTM</th>\n",
       "      <td>object</td>\n",
       "      <td>0</td>\n",
       "    </tr>\n",
       "    <tr>\n",
       "      <th>INCDATE</th>\n",
       "      <td>object</td>\n",
       "      <td>0</td>\n",
       "    </tr>\n",
       "    <tr>\n",
       "      <th>PEDCYLCOUNT</th>\n",
       "      <td>int64</td>\n",
       "      <td>0</td>\n",
       "    </tr>\n",
       "    <tr>\n",
       "      <th>PEDCOUNT</th>\n",
       "      <td>int64</td>\n",
       "      <td>0</td>\n",
       "    </tr>\n",
       "    <tr>\n",
       "      <th>PERSONCOUNT</th>\n",
       "      <td>int64</td>\n",
       "      <td>0</td>\n",
       "    </tr>\n",
       "    <tr>\n",
       "      <th>SEVERITYDESC</th>\n",
       "      <td>object</td>\n",
       "      <td>0</td>\n",
       "    </tr>\n",
       "    <tr>\n",
       "      <th>SEVERITYCODE.1</th>\n",
       "      <td>int64</td>\n",
       "      <td>0</td>\n",
       "    </tr>\n",
       "    <tr>\n",
       "      <th>STATUS</th>\n",
       "      <td>object</td>\n",
       "      <td>0</td>\n",
       "    </tr>\n",
       "    <tr>\n",
       "      <th>REPORTNO</th>\n",
       "      <td>object</td>\n",
       "      <td>0</td>\n",
       "    </tr>\n",
       "    <tr>\n",
       "      <th>COLDETKEY</th>\n",
       "      <td>int64</td>\n",
       "      <td>0</td>\n",
       "    </tr>\n",
       "    <tr>\n",
       "      <th>INCKEY</th>\n",
       "      <td>int64</td>\n",
       "      <td>0</td>\n",
       "    </tr>\n",
       "    <tr>\n",
       "      <th>OBJECTID</th>\n",
       "      <td>int64</td>\n",
       "      <td>0</td>\n",
       "    </tr>\n",
       "    <tr>\n",
       "      <th>HITPARKEDCAR</th>\n",
       "      <td>object</td>\n",
       "      <td>0</td>\n",
       "    </tr>\n",
       "  </tbody>\n",
       "</table>\n",
       "</div>"
      ],
      "text/plain": [
       "               Data Types  Null Values\n",
       "PEDROWNOTGRNT      object       190006\n",
       "EXCEPTRSNDESC      object       189035\n",
       "SPEEDING           object       185340\n",
       "INATTENTIONIND     object       164868\n",
       "INTKEY            float64       129603\n",
       "EXCEPTRSNCODE      object       109862\n",
       "SDOTCOLNUM        float64        79737\n",
       "JUNCTIONTYPE       object         6329\n",
       "X                 float64         5334\n",
       "Y                 float64         5334\n",
       "LIGHTCOND          object         5170\n",
       "WEATHER            object         5081\n",
       "ROADCOND           object         5012\n",
       "ST_COLDESC         object         4904\n",
       "COLLISIONTYPE      object         4904\n",
       "UNDERINFL          object         4884\n",
       "LOCATION           object         2677\n",
       "ADDRTYPE           object         1926\n",
       "ST_COLCODE         object           18\n",
       "SDOT_COLDESC       object            0\n",
       "SEGLANEKEY          int64            0\n",
       "CROSSWALKKEY        int64            0\n",
       "SEVERITYCODE        int64            0\n",
       "VEHCOUNT            int64            0\n",
       "SDOT_COLCODE        int64            0\n",
       "INCDTTM            object            0\n",
       "INCDATE            object            0\n",
       "PEDCYLCOUNT         int64            0\n",
       "PEDCOUNT            int64            0\n",
       "PERSONCOUNT         int64            0\n",
       "SEVERITYDESC       object            0\n",
       "SEVERITYCODE.1      int64            0\n",
       "STATUS             object            0\n",
       "REPORTNO           object            0\n",
       "COLDETKEY           int64            0\n",
       "INCKEY              int64            0\n",
       "OBJECTID            int64            0\n",
       "HITPARKEDCAR       object            0"
      ]
     },
     "execution_count": 12,
     "metadata": {},
     "output_type": "execute_result"
    }
   ],
   "source": [
    "pd.concat([df.dtypes, df.isna().sum()], axis=1, \n",
    "          keys=[\"Data Types\", \"Null Values\"]).sort_values(by=[\"Null Values\"], ascending=False)"
   ]
  },
  {
   "cell_type": "markdown",
   "metadata": {},
   "source": [
    "<h3 id=\"preprocessing\">Removing Unnecessary Features</h3>\n",
    "<p> Our first stage of cleaning the data, is to remove any unnecessary columns and rows from the dataset. </p>"
   ]
  },
  {
   "cell_type": "code",
   "execution_count": 13,
   "metadata": {},
   "outputs": [
    {
     "name": "stdout",
     "output_type": "stream",
     "text": [
      "Total Rows: 194673\n"
     ]
    },
    {
     "data": {
      "text/plain": [
       "NaN    109862\n",
       "        79173\n",
       "NEI      5638\n",
       "Name: EXCEPTRSNCODE, dtype: int64"
      ]
     },
     "execution_count": 13,
     "metadata": {},
     "output_type": "execute_result"
    }
   ],
   "source": [
    "# From reviewing the data, the columns \"EXCEPTRSNCODE\" and \"EXCEPTRSNDESC\", \n",
    "# highlight any rows of data that don't have sufficient information. \n",
    "# As such, these will be removed first. \n",
    "print(\"Total Rows:\", len(df))\n",
    "df[\"EXCEPTRSNCODE\"].value_counts(dropna=False)"
   ]
  },
  {
   "cell_type": "code",
   "execution_count": 14,
   "metadata": {},
   "outputs": [
    {
     "name": "stdout",
     "output_type": "stream",
     "text": [
      "Total Rows: 189035\n"
     ]
    },
    {
     "data": {
      "text/plain": [
       "NaN    109862\n",
       "        79173\n",
       "Name: EXCEPTRSNCODE, dtype: int64"
      ]
     },
     "execution_count": 14,
     "metadata": {},
     "output_type": "execute_result"
    }
   ],
   "source": [
    "df = df[df.EXCEPTRSNCODE != 'NEI']\n",
    "print(\"Total Rows:\", len(df))\n",
    "df[\"EXCEPTRSNCODE\"].value_counts(dropna=False)"
   ]
  },
  {
   "cell_type": "markdown",
   "metadata": {},
   "source": [
    "<h3 id=\"preprocessing\">Removing Unnecessary Features</h3>\n",
    "<p> With the insufficient data rows removed from the dataframe, unnecessary columns will be removed. The columns removed are due to not having any direct influence on the cause of an accident. As that is the purpose of this ML prediction model.</p>"
   ]
  },
  {
   "cell_type": "code",
   "execution_count": 15,
   "metadata": {},
   "outputs": [],
   "source": [
    "# From reviewing the data, there were a number of columns that had no relevance \n",
    "# to the prediction of an accident or were data points from after the accident \n",
    "# and so irrelevant in the prediction. As such, they were removed.  \n",
    "df = df.drop(['EXCEPTRSNCODE', 'EXCEPTRSNDESC', \"INTKEY\",'INCKEY', 'COLDETKEY', \n",
    "              'SEGLANEKEY', 'CROSSWALKKEY',\"SEVERITYCODE.1\",\"REPORTNO\", \"SEVERITYDESC\",\n",
    "              'SDOTCOLNUM','ST_COLDESC', 'LOCATION','STATUS','X','Y','INCDATE','INCDTTM',\n",
    "              'SDOT_COLCODE','SDOT_COLDESC'], axis=1)"
   ]
  },
  {
   "cell_type": "code",
   "execution_count": 16,
   "metadata": {},
   "outputs": [
    {
     "data": {
      "text/html": [
       "<div>\n",
       "<style scoped>\n",
       "    .dataframe tbody tr th:only-of-type {\n",
       "        vertical-align: middle;\n",
       "    }\n",
       "\n",
       "    .dataframe tbody tr th {\n",
       "        vertical-align: top;\n",
       "    }\n",
       "\n",
       "    .dataframe thead th {\n",
       "        text-align: right;\n",
       "    }\n",
       "</style>\n",
       "<table border=\"1\" class=\"dataframe\">\n",
       "  <thead>\n",
       "    <tr style=\"text-align: right;\">\n",
       "      <th></th>\n",
       "      <th>SEVERITYCODE</th>\n",
       "      <th>OBJECTID</th>\n",
       "      <th>ADDRTYPE</th>\n",
       "      <th>COLLISIONTYPE</th>\n",
       "      <th>PERSONCOUNT</th>\n",
       "      <th>PEDCOUNT</th>\n",
       "      <th>PEDCYLCOUNT</th>\n",
       "      <th>VEHCOUNT</th>\n",
       "      <th>JUNCTIONTYPE</th>\n",
       "      <th>INATTENTIONIND</th>\n",
       "      <th>UNDERINFL</th>\n",
       "      <th>WEATHER</th>\n",
       "      <th>ROADCOND</th>\n",
       "      <th>LIGHTCOND</th>\n",
       "      <th>PEDROWNOTGRNT</th>\n",
       "      <th>SPEEDING</th>\n",
       "      <th>ST_COLCODE</th>\n",
       "      <th>HITPARKEDCAR</th>\n",
       "    </tr>\n",
       "  </thead>\n",
       "  <tbody>\n",
       "    <tr>\n",
       "      <th>0</th>\n",
       "      <td>2</td>\n",
       "      <td>1</td>\n",
       "      <td>Intersection</td>\n",
       "      <td>Angles</td>\n",
       "      <td>2</td>\n",
       "      <td>0</td>\n",
       "      <td>0</td>\n",
       "      <td>2</td>\n",
       "      <td>At Intersection (intersection related)</td>\n",
       "      <td>NaN</td>\n",
       "      <td>N</td>\n",
       "      <td>Overcast</td>\n",
       "      <td>Wet</td>\n",
       "      <td>Daylight</td>\n",
       "      <td>NaN</td>\n",
       "      <td>NaN</td>\n",
       "      <td>10</td>\n",
       "      <td>N</td>\n",
       "    </tr>\n",
       "    <tr>\n",
       "      <th>1</th>\n",
       "      <td>1</td>\n",
       "      <td>2</td>\n",
       "      <td>Block</td>\n",
       "      <td>Sideswipe</td>\n",
       "      <td>2</td>\n",
       "      <td>0</td>\n",
       "      <td>0</td>\n",
       "      <td>2</td>\n",
       "      <td>Mid-Block (not related to intersection)</td>\n",
       "      <td>NaN</td>\n",
       "      <td>0</td>\n",
       "      <td>Raining</td>\n",
       "      <td>Wet</td>\n",
       "      <td>Dark - Street Lights On</td>\n",
       "      <td>NaN</td>\n",
       "      <td>NaN</td>\n",
       "      <td>11</td>\n",
       "      <td>N</td>\n",
       "    </tr>\n",
       "    <tr>\n",
       "      <th>2</th>\n",
       "      <td>1</td>\n",
       "      <td>3</td>\n",
       "      <td>Block</td>\n",
       "      <td>Parked Car</td>\n",
       "      <td>4</td>\n",
       "      <td>0</td>\n",
       "      <td>0</td>\n",
       "      <td>3</td>\n",
       "      <td>Mid-Block (not related to intersection)</td>\n",
       "      <td>NaN</td>\n",
       "      <td>0</td>\n",
       "      <td>Overcast</td>\n",
       "      <td>Dry</td>\n",
       "      <td>Daylight</td>\n",
       "      <td>NaN</td>\n",
       "      <td>NaN</td>\n",
       "      <td>32</td>\n",
       "      <td>N</td>\n",
       "    </tr>\n",
       "    <tr>\n",
       "      <th>3</th>\n",
       "      <td>1</td>\n",
       "      <td>4</td>\n",
       "      <td>Block</td>\n",
       "      <td>Other</td>\n",
       "      <td>3</td>\n",
       "      <td>0</td>\n",
       "      <td>0</td>\n",
       "      <td>3</td>\n",
       "      <td>Mid-Block (not related to intersection)</td>\n",
       "      <td>NaN</td>\n",
       "      <td>N</td>\n",
       "      <td>Clear</td>\n",
       "      <td>Dry</td>\n",
       "      <td>Daylight</td>\n",
       "      <td>NaN</td>\n",
       "      <td>NaN</td>\n",
       "      <td>23</td>\n",
       "      <td>N</td>\n",
       "    </tr>\n",
       "    <tr>\n",
       "      <th>4</th>\n",
       "      <td>2</td>\n",
       "      <td>5</td>\n",
       "      <td>Intersection</td>\n",
       "      <td>Angles</td>\n",
       "      <td>2</td>\n",
       "      <td>0</td>\n",
       "      <td>0</td>\n",
       "      <td>2</td>\n",
       "      <td>At Intersection (intersection related)</td>\n",
       "      <td>NaN</td>\n",
       "      <td>0</td>\n",
       "      <td>Raining</td>\n",
       "      <td>Wet</td>\n",
       "      <td>Daylight</td>\n",
       "      <td>NaN</td>\n",
       "      <td>NaN</td>\n",
       "      <td>10</td>\n",
       "      <td>N</td>\n",
       "    </tr>\n",
       "  </tbody>\n",
       "</table>\n",
       "</div>"
      ],
      "text/plain": [
       "   SEVERITYCODE  OBJECTID      ADDRTYPE COLLISIONTYPE  PERSONCOUNT  PEDCOUNT  \\\n",
       "0             2         1  Intersection        Angles            2         0   \n",
       "1             1         2         Block     Sideswipe            2         0   \n",
       "2             1         3         Block    Parked Car            4         0   \n",
       "3             1         4         Block         Other            3         0   \n",
       "4             2         5  Intersection        Angles            2         0   \n",
       "\n",
       "   PEDCYLCOUNT  VEHCOUNT                             JUNCTIONTYPE  \\\n",
       "0            0         2   At Intersection (intersection related)   \n",
       "1            0         2  Mid-Block (not related to intersection)   \n",
       "2            0         3  Mid-Block (not related to intersection)   \n",
       "3            0         3  Mid-Block (not related to intersection)   \n",
       "4            0         2   At Intersection (intersection related)   \n",
       "\n",
       "  INATTENTIONIND UNDERINFL   WEATHER ROADCOND                LIGHTCOND  \\\n",
       "0            NaN         N  Overcast      Wet                 Daylight   \n",
       "1            NaN         0   Raining      Wet  Dark - Street Lights On   \n",
       "2            NaN         0  Overcast      Dry                 Daylight   \n",
       "3            NaN         N     Clear      Dry                 Daylight   \n",
       "4            NaN         0   Raining      Wet                 Daylight   \n",
       "\n",
       "  PEDROWNOTGRNT SPEEDING ST_COLCODE HITPARKEDCAR  \n",
       "0           NaN      NaN         10            N  \n",
       "1           NaN      NaN         11            N  \n",
       "2           NaN      NaN         32            N  \n",
       "3           NaN      NaN         23            N  \n",
       "4           NaN      NaN         10            N  "
      ]
     },
     "execution_count": 16,
     "metadata": {},
     "output_type": "execute_result"
    }
   ],
   "source": [
    "df.head(5)"
   ]
  },
  {
   "cell_type": "code",
   "execution_count": 17,
   "metadata": {},
   "outputs": [
    {
     "name": "stdout",
     "output_type": "stream",
     "text": [
      "SEVERITYCODE\n",
      "False    189035\n",
      "Name: SEVERITYCODE, dtype: int64\n",
      "\n",
      "OBJECTID\n",
      "False    189035\n",
      "Name: OBJECTID, dtype: int64\n",
      "\n",
      "ADDRTYPE\n",
      "False    189032\n",
      "True          3\n",
      "Name: ADDRTYPE, dtype: int64\n",
      "\n",
      "COLLISIONTYPE\n",
      "False    184904\n",
      "True       4131\n",
      "Name: COLLISIONTYPE, dtype: int64\n",
      "\n",
      "PERSONCOUNT\n",
      "False    189035\n",
      "Name: PERSONCOUNT, dtype: int64\n",
      "\n",
      "PEDCOUNT\n",
      "False    189035\n",
      "Name: PEDCOUNT, dtype: int64\n",
      "\n",
      "PEDCYLCOUNT\n",
      "False    189035\n",
      "Name: PEDCYLCOUNT, dtype: int64\n",
      "\n",
      "VEHCOUNT\n",
      "False    189035\n",
      "Name: VEHCOUNT, dtype: int64\n",
      "\n",
      "JUNCTIONTYPE\n",
      "False    185573\n",
      "True       3462\n",
      "Name: JUNCTIONTYPE, dtype: int64\n",
      "\n",
      "INATTENTIONIND\n",
      "True     159790\n",
      "False     29245\n",
      "Name: INATTENTIONIND, dtype: int64\n",
      "\n",
      "UNDERINFL\n",
      "False    184921\n",
      "True       4114\n",
      "Name: UNDERINFL, dtype: int64\n",
      "\n",
      "WEATHER\n",
      "False    184737\n",
      "True       4298\n",
      "Name: WEATHER, dtype: int64\n",
      "\n",
      "ROADCOND\n",
      "False    184805\n",
      "True       4230\n",
      "Name: ROADCOND, dtype: int64\n",
      "\n",
      "LIGHTCOND\n",
      "False    184667\n",
      "True       4368\n",
      "Name: LIGHTCOND, dtype: int64\n",
      "\n",
      "PEDROWNOTGRNT\n",
      "True     184409\n",
      "False      4626\n",
      "Name: PEDROWNOTGRNT, dtype: int64\n",
      "\n",
      "SPEEDING\n",
      "True     179796\n",
      "False      9239\n",
      "Name: SPEEDING, dtype: int64\n",
      "\n",
      "ST_COLCODE\n",
      "False    189018\n",
      "True         17\n",
      "Name: ST_COLCODE, dtype: int64\n",
      "\n",
      "HITPARKEDCAR\n",
      "False    189035\n",
      "Name: HITPARKEDCAR, dtype: int64\n",
      "\n"
     ]
    }
   ],
   "source": [
    "missing_data = df.isnull()\n",
    "for column in missing_data.columns.values.tolist():\n",
    "    print(column)\n",
    "    print (missing_data[column].value_counts())\n",
    "    print(\"\")"
   ]
  },
  {
   "cell_type": "code",
   "execution_count": 18,
   "metadata": {},
   "outputs": [
    {
     "name": "stdout",
     "output_type": "stream",
     "text": [
      "SEVERITYCODE\n",
      "False    181066\n",
      "Name: SEVERITYCODE, dtype: int64\n",
      "\n",
      "OBJECTID\n",
      "False    181066\n",
      "Name: OBJECTID, dtype: int64\n",
      "\n",
      "ADDRTYPE\n",
      "False    181066\n",
      "Name: ADDRTYPE, dtype: int64\n",
      "\n",
      "COLLISIONTYPE\n",
      "False    181066\n",
      "Name: COLLISIONTYPE, dtype: int64\n",
      "\n",
      "PERSONCOUNT\n",
      "False    181066\n",
      "Name: PERSONCOUNT, dtype: int64\n",
      "\n",
      "PEDCOUNT\n",
      "False    181066\n",
      "Name: PEDCOUNT, dtype: int64\n",
      "\n",
      "PEDCYLCOUNT\n",
      "False    181066\n",
      "Name: PEDCYLCOUNT, dtype: int64\n",
      "\n",
      "VEHCOUNT\n",
      "False    181066\n",
      "Name: VEHCOUNT, dtype: int64\n",
      "\n",
      "JUNCTIONTYPE\n",
      "False    181066\n",
      "Name: JUNCTIONTYPE, dtype: int64\n",
      "\n",
      "INATTENTIONIND\n",
      "True     152087\n",
      "False     28979\n",
      "Name: INATTENTIONIND, dtype: int64\n",
      "\n",
      "UNDERINFL\n",
      "False    181066\n",
      "Name: UNDERINFL, dtype: int64\n",
      "\n",
      "WEATHER\n",
      "False    181066\n",
      "Name: WEATHER, dtype: int64\n",
      "\n",
      "ROADCOND\n",
      "False    181066\n",
      "Name: ROADCOND, dtype: int64\n",
      "\n",
      "LIGHTCOND\n",
      "False    181066\n",
      "Name: LIGHTCOND, dtype: int64\n",
      "\n",
      "PEDROWNOTGRNT\n",
      "True     176457\n",
      "False      4609\n",
      "Name: PEDROWNOTGRNT, dtype: int64\n",
      "\n",
      "SPEEDING\n",
      "True     171892\n",
      "False      9174\n",
      "Name: SPEEDING, dtype: int64\n",
      "\n",
      "ST_COLCODE\n",
      "False    181066\n",
      "Name: ST_COLCODE, dtype: int64\n",
      "\n",
      "HITPARKEDCAR\n",
      "False    181066\n",
      "Name: HITPARKEDCAR, dtype: int64\n",
      "\n"
     ]
    }
   ],
   "source": [
    "# clean the data of rows with NaN information in important cells. Removes 4500ish data points. \n",
    "\n",
    "df = df.dropna(subset=['WEATHER','ROADCOND', 'ROADCOND', 'UNDERINFL','LIGHTCOND','ST_COLCODE','ADDRTYPE','COLLISIONTYPE','JUNCTIONTYPE'])\n",
    "missing_data = df.isnull()\n",
    "for column in missing_data.columns.values.tolist():\n",
    "    print(column)\n",
    "    print (missing_data[column].value_counts())\n",
    "    print(\"\")"
   ]
  },
  {
   "cell_type": "code",
   "execution_count": 25,
   "metadata": {},
   "outputs": [],
   "source": []
  },
  {
   "cell_type": "markdown",
   "metadata": {},
   "source": [
    "<h2> Converting Categorical to Numerical Data Types </h2>\n",
    "<p> Given the large number of categorical data points, these need to be converted to numerical types to then be processed into the ML models. This is done through conversion of N and Y values to 0 and 1, as well as one hot encoding various columns in later blocks of code. The data also wants to be checked that there doesn't exist any null values and if it does, then remove these from the data. </p> "
   ]
  },
  {
   "cell_type": "code",
   "execution_count": 19,
   "metadata": {},
   "outputs": [
    {
     "data": {
      "text/plain": [
       "['N', '0', '1', 'Y']"
      ]
     },
     "execution_count": 19,
     "metadata": {},
     "output_type": "execute_result"
    }
   ],
   "source": [
    "df['UNDERINFL'].unique().tolist()"
   ]
  },
  {
   "cell_type": "code",
   "execution_count": 20,
   "metadata": {},
   "outputs": [
    {
     "data": {
      "text/plain": [
       "[nan, 'Y']"
      ]
     },
     "execution_count": 20,
     "metadata": {},
     "output_type": "execute_result"
    }
   ],
   "source": [
    "df['PEDROWNOTGRNT'].unique().tolist()"
   ]
  },
  {
   "cell_type": "code",
   "execution_count": 21,
   "metadata": {},
   "outputs": [
    {
     "data": {
      "text/plain": [
       "[nan, 'Y']"
      ]
     },
     "execution_count": 21,
     "metadata": {},
     "output_type": "execute_result"
    }
   ],
   "source": [
    "df['SPEEDING'].unique().tolist()"
   ]
  },
  {
   "cell_type": "code",
   "execution_count": 22,
   "metadata": {},
   "outputs": [
    {
     "data": {
      "text/plain": [
       "[nan, 'Y']"
      ]
     },
     "execution_count": 22,
     "metadata": {},
     "output_type": "execute_result"
    }
   ],
   "source": [
    "df['INATTENTIONIND'].unique().tolist()"
   ]
  },
  {
   "cell_type": "code",
   "execution_count": 23,
   "metadata": {},
   "outputs": [
    {
     "data": {
      "text/plain": [
       "['N', 'Y']"
      ]
     },
     "execution_count": 23,
     "metadata": {},
     "output_type": "execute_result"
    }
   ],
   "source": [
    "df['HITPARKEDCAR'].unique().tolist()"
   ]
  },
  {
   "cell_type": "code",
   "execution_count": 24,
   "metadata": {},
   "outputs": [
    {
     "name": "stdout",
     "output_type": "stream",
     "text": [
      "SEVERITYCODE\n",
      "False    181066\n",
      "Name: SEVERITYCODE, dtype: int64\n",
      "\n",
      "OBJECTID\n",
      "False    181066\n",
      "Name: OBJECTID, dtype: int64\n",
      "\n",
      "ADDRTYPE\n",
      "False    181066\n",
      "Name: ADDRTYPE, dtype: int64\n",
      "\n",
      "COLLISIONTYPE\n",
      "False    181066\n",
      "Name: COLLISIONTYPE, dtype: int64\n",
      "\n",
      "PERSONCOUNT\n",
      "False    181066\n",
      "Name: PERSONCOUNT, dtype: int64\n",
      "\n",
      "PEDCOUNT\n",
      "False    181066\n",
      "Name: PEDCOUNT, dtype: int64\n",
      "\n",
      "PEDCYLCOUNT\n",
      "False    181066\n",
      "Name: PEDCYLCOUNT, dtype: int64\n",
      "\n",
      "VEHCOUNT\n",
      "False    181066\n",
      "Name: VEHCOUNT, dtype: int64\n",
      "\n",
      "JUNCTIONTYPE\n",
      "False    181066\n",
      "Name: JUNCTIONTYPE, dtype: int64\n",
      "\n",
      "INATTENTIONIND\n",
      "False    181066\n",
      "Name: INATTENTIONIND, dtype: int64\n",
      "\n",
      "UNDERINFL\n",
      "False    181066\n",
      "Name: UNDERINFL, dtype: int64\n",
      "\n",
      "WEATHER\n",
      "False    181066\n",
      "Name: WEATHER, dtype: int64\n",
      "\n",
      "ROADCOND\n",
      "False    181066\n",
      "Name: ROADCOND, dtype: int64\n",
      "\n",
      "LIGHTCOND\n",
      "False    181066\n",
      "Name: LIGHTCOND, dtype: int64\n",
      "\n",
      "PEDROWNOTGRNT\n",
      "False    181066\n",
      "Name: PEDROWNOTGRNT, dtype: int64\n",
      "\n",
      "SPEEDING\n",
      "False    181066\n",
      "Name: SPEEDING, dtype: int64\n",
      "\n",
      "ST_COLCODE\n",
      "False    181066\n",
      "Name: ST_COLCODE, dtype: int64\n",
      "\n",
      "HITPARKEDCAR\n",
      "False    181066\n",
      "Name: HITPARKEDCAR, dtype: int64\n",
      "\n"
     ]
    },
    {
     "data": {
      "text/html": [
       "<div>\n",
       "<style scoped>\n",
       "    .dataframe tbody tr th:only-of-type {\n",
       "        vertical-align: middle;\n",
       "    }\n",
       "\n",
       "    .dataframe tbody tr th {\n",
       "        vertical-align: top;\n",
       "    }\n",
       "\n",
       "    .dataframe thead th {\n",
       "        text-align: right;\n",
       "    }\n",
       "</style>\n",
       "<table border=\"1\" class=\"dataframe\">\n",
       "  <thead>\n",
       "    <tr style=\"text-align: right;\">\n",
       "      <th></th>\n",
       "      <th>SEVERITYCODE</th>\n",
       "      <th>OBJECTID</th>\n",
       "      <th>ADDRTYPE</th>\n",
       "      <th>COLLISIONTYPE</th>\n",
       "      <th>PERSONCOUNT</th>\n",
       "      <th>PEDCOUNT</th>\n",
       "      <th>PEDCYLCOUNT</th>\n",
       "      <th>VEHCOUNT</th>\n",
       "      <th>JUNCTIONTYPE</th>\n",
       "      <th>INATTENTIONIND</th>\n",
       "      <th>UNDERINFL</th>\n",
       "      <th>WEATHER</th>\n",
       "      <th>ROADCOND</th>\n",
       "      <th>LIGHTCOND</th>\n",
       "      <th>PEDROWNOTGRNT</th>\n",
       "      <th>SPEEDING</th>\n",
       "      <th>ST_COLCODE</th>\n",
       "      <th>HITPARKEDCAR</th>\n",
       "    </tr>\n",
       "  </thead>\n",
       "  <tbody>\n",
       "    <tr>\n",
       "      <th>0</th>\n",
       "      <td>2</td>\n",
       "      <td>1</td>\n",
       "      <td>Intersection</td>\n",
       "      <td>Angles</td>\n",
       "      <td>2</td>\n",
       "      <td>0</td>\n",
       "      <td>0</td>\n",
       "      <td>2</td>\n",
       "      <td>At Intersection (intersection related)</td>\n",
       "      <td>N</td>\n",
       "      <td>N</td>\n",
       "      <td>Overcast</td>\n",
       "      <td>Wet</td>\n",
       "      <td>Daylight</td>\n",
       "      <td>N</td>\n",
       "      <td>N</td>\n",
       "      <td>10</td>\n",
       "      <td>N</td>\n",
       "    </tr>\n",
       "    <tr>\n",
       "      <th>1</th>\n",
       "      <td>1</td>\n",
       "      <td>2</td>\n",
       "      <td>Block</td>\n",
       "      <td>Sideswipe</td>\n",
       "      <td>2</td>\n",
       "      <td>0</td>\n",
       "      <td>0</td>\n",
       "      <td>2</td>\n",
       "      <td>Mid-Block (not related to intersection)</td>\n",
       "      <td>N</td>\n",
       "      <td>0</td>\n",
       "      <td>Raining</td>\n",
       "      <td>Wet</td>\n",
       "      <td>Dark - Street Lights On</td>\n",
       "      <td>N</td>\n",
       "      <td>N</td>\n",
       "      <td>11</td>\n",
       "      <td>N</td>\n",
       "    </tr>\n",
       "    <tr>\n",
       "      <th>2</th>\n",
       "      <td>1</td>\n",
       "      <td>3</td>\n",
       "      <td>Block</td>\n",
       "      <td>Parked Car</td>\n",
       "      <td>4</td>\n",
       "      <td>0</td>\n",
       "      <td>0</td>\n",
       "      <td>3</td>\n",
       "      <td>Mid-Block (not related to intersection)</td>\n",
       "      <td>N</td>\n",
       "      <td>0</td>\n",
       "      <td>Overcast</td>\n",
       "      <td>Dry</td>\n",
       "      <td>Daylight</td>\n",
       "      <td>N</td>\n",
       "      <td>N</td>\n",
       "      <td>32</td>\n",
       "      <td>N</td>\n",
       "    </tr>\n",
       "    <tr>\n",
       "      <th>3</th>\n",
       "      <td>1</td>\n",
       "      <td>4</td>\n",
       "      <td>Block</td>\n",
       "      <td>Other</td>\n",
       "      <td>3</td>\n",
       "      <td>0</td>\n",
       "      <td>0</td>\n",
       "      <td>3</td>\n",
       "      <td>Mid-Block (not related to intersection)</td>\n",
       "      <td>N</td>\n",
       "      <td>N</td>\n",
       "      <td>Clear</td>\n",
       "      <td>Dry</td>\n",
       "      <td>Daylight</td>\n",
       "      <td>N</td>\n",
       "      <td>N</td>\n",
       "      <td>23</td>\n",
       "      <td>N</td>\n",
       "    </tr>\n",
       "    <tr>\n",
       "      <th>4</th>\n",
       "      <td>2</td>\n",
       "      <td>5</td>\n",
       "      <td>Intersection</td>\n",
       "      <td>Angles</td>\n",
       "      <td>2</td>\n",
       "      <td>0</td>\n",
       "      <td>0</td>\n",
       "      <td>2</td>\n",
       "      <td>At Intersection (intersection related)</td>\n",
       "      <td>N</td>\n",
       "      <td>0</td>\n",
       "      <td>Raining</td>\n",
       "      <td>Wet</td>\n",
       "      <td>Daylight</td>\n",
       "      <td>N</td>\n",
       "      <td>N</td>\n",
       "      <td>10</td>\n",
       "      <td>N</td>\n",
       "    </tr>\n",
       "    <tr>\n",
       "      <th>5</th>\n",
       "      <td>1</td>\n",
       "      <td>6</td>\n",
       "      <td>Intersection</td>\n",
       "      <td>Angles</td>\n",
       "      <td>2</td>\n",
       "      <td>0</td>\n",
       "      <td>0</td>\n",
       "      <td>2</td>\n",
       "      <td>At Intersection (intersection related)</td>\n",
       "      <td>N</td>\n",
       "      <td>N</td>\n",
       "      <td>Clear</td>\n",
       "      <td>Dry</td>\n",
       "      <td>Daylight</td>\n",
       "      <td>N</td>\n",
       "      <td>N</td>\n",
       "      <td>10</td>\n",
       "      <td>N</td>\n",
       "    </tr>\n",
       "    <tr>\n",
       "      <th>6</th>\n",
       "      <td>1</td>\n",
       "      <td>7</td>\n",
       "      <td>Intersection</td>\n",
       "      <td>Angles</td>\n",
       "      <td>2</td>\n",
       "      <td>0</td>\n",
       "      <td>0</td>\n",
       "      <td>2</td>\n",
       "      <td>At Intersection (intersection related)</td>\n",
       "      <td>N</td>\n",
       "      <td>0</td>\n",
       "      <td>Raining</td>\n",
       "      <td>Wet</td>\n",
       "      <td>Daylight</td>\n",
       "      <td>N</td>\n",
       "      <td>N</td>\n",
       "      <td>10</td>\n",
       "      <td>N</td>\n",
       "    </tr>\n",
       "    <tr>\n",
       "      <th>7</th>\n",
       "      <td>2</td>\n",
       "      <td>9</td>\n",
       "      <td>Intersection</td>\n",
       "      <td>Cycles</td>\n",
       "      <td>3</td>\n",
       "      <td>0</td>\n",
       "      <td>1</td>\n",
       "      <td>1</td>\n",
       "      <td>At Intersection (intersection related)</td>\n",
       "      <td>N</td>\n",
       "      <td>N</td>\n",
       "      <td>Clear</td>\n",
       "      <td>Dry</td>\n",
       "      <td>Daylight</td>\n",
       "      <td>N</td>\n",
       "      <td>N</td>\n",
       "      <td>5</td>\n",
       "      <td>N</td>\n",
       "    </tr>\n",
       "    <tr>\n",
       "      <th>8</th>\n",
       "      <td>1</td>\n",
       "      <td>10</td>\n",
       "      <td>Block</td>\n",
       "      <td>Parked Car</td>\n",
       "      <td>2</td>\n",
       "      <td>0</td>\n",
       "      <td>0</td>\n",
       "      <td>2</td>\n",
       "      <td>Mid-Block (not related to intersection)</td>\n",
       "      <td>N</td>\n",
       "      <td>0</td>\n",
       "      <td>Clear</td>\n",
       "      <td>Dry</td>\n",
       "      <td>Daylight</td>\n",
       "      <td>N</td>\n",
       "      <td>N</td>\n",
       "      <td>32</td>\n",
       "      <td>N</td>\n",
       "    </tr>\n",
       "    <tr>\n",
       "      <th>9</th>\n",
       "      <td>2</td>\n",
       "      <td>12</td>\n",
       "      <td>Intersection</td>\n",
       "      <td>Angles</td>\n",
       "      <td>2</td>\n",
       "      <td>0</td>\n",
       "      <td>0</td>\n",
       "      <td>2</td>\n",
       "      <td>At Intersection (intersection related)</td>\n",
       "      <td>N</td>\n",
       "      <td>0</td>\n",
       "      <td>Clear</td>\n",
       "      <td>Dry</td>\n",
       "      <td>Daylight</td>\n",
       "      <td>N</td>\n",
       "      <td>N</td>\n",
       "      <td>10</td>\n",
       "      <td>N</td>\n",
       "    </tr>\n",
       "  </tbody>\n",
       "</table>\n",
       "</div>"
      ],
      "text/plain": [
       "   SEVERITYCODE  OBJECTID      ADDRTYPE COLLISIONTYPE  PERSONCOUNT  PEDCOUNT  \\\n",
       "0             2         1  Intersection        Angles            2         0   \n",
       "1             1         2         Block     Sideswipe            2         0   \n",
       "2             1         3         Block    Parked Car            4         0   \n",
       "3             1         4         Block         Other            3         0   \n",
       "4             2         5  Intersection        Angles            2         0   \n",
       "5             1         6  Intersection        Angles            2         0   \n",
       "6             1         7  Intersection        Angles            2         0   \n",
       "7             2         9  Intersection        Cycles            3         0   \n",
       "8             1        10         Block    Parked Car            2         0   \n",
       "9             2        12  Intersection        Angles            2         0   \n",
       "\n",
       "   PEDCYLCOUNT  VEHCOUNT                             JUNCTIONTYPE  \\\n",
       "0            0         2   At Intersection (intersection related)   \n",
       "1            0         2  Mid-Block (not related to intersection)   \n",
       "2            0         3  Mid-Block (not related to intersection)   \n",
       "3            0         3  Mid-Block (not related to intersection)   \n",
       "4            0         2   At Intersection (intersection related)   \n",
       "5            0         2   At Intersection (intersection related)   \n",
       "6            0         2   At Intersection (intersection related)   \n",
       "7            1         1   At Intersection (intersection related)   \n",
       "8            0         2  Mid-Block (not related to intersection)   \n",
       "9            0         2   At Intersection (intersection related)   \n",
       "\n",
       "  INATTENTIONIND UNDERINFL   WEATHER ROADCOND                LIGHTCOND  \\\n",
       "0              N         N  Overcast      Wet                 Daylight   \n",
       "1              N         0   Raining      Wet  Dark - Street Lights On   \n",
       "2              N         0  Overcast      Dry                 Daylight   \n",
       "3              N         N     Clear      Dry                 Daylight   \n",
       "4              N         0   Raining      Wet                 Daylight   \n",
       "5              N         N     Clear      Dry                 Daylight   \n",
       "6              N         0   Raining      Wet                 Daylight   \n",
       "7              N         N     Clear      Dry                 Daylight   \n",
       "8              N         0     Clear      Dry                 Daylight   \n",
       "9              N         0     Clear      Dry                 Daylight   \n",
       "\n",
       "  PEDROWNOTGRNT SPEEDING ST_COLCODE HITPARKEDCAR  \n",
       "0             N        N         10            N  \n",
       "1             N        N         11            N  \n",
       "2             N        N         32            N  \n",
       "3             N        N         23            N  \n",
       "4             N        N         10            N  \n",
       "5             N        N         10            N  \n",
       "6             N        N         10            N  \n",
       "7             N        N          5            N  \n",
       "8             N        N         32            N  \n",
       "9             N        N         10            N  "
      ]
     },
     "execution_count": 24,
     "metadata": {},
     "output_type": "execute_result"
    }
   ],
   "source": [
    "df[['PEDROWNOTGRNT','INATTENTIONIND','SPEEDING']] = df[['PEDROWNOTGRNT','INATTENTIONIND','SPEEDING']].fillna('N')\n",
    "\n",
    "missing_data = df.isnull()\n",
    "for column in missing_data.columns.values.tolist():\n",
    "    print(column)\n",
    "    print (missing_data[column].value_counts())\n",
    "    print(\"\")\n",
    "\n",
    "df.head(10)"
   ]
  },
  {
   "cell_type": "code",
   "execution_count": null,
   "metadata": {},
   "outputs": [],
   "source": []
  },
  {
   "cell_type": "code",
   "execution_count": 25,
   "metadata": {},
   "outputs": [
    {
     "data": {
      "text/html": [
       "<div>\n",
       "<style scoped>\n",
       "    .dataframe tbody tr th:only-of-type {\n",
       "        vertical-align: middle;\n",
       "    }\n",
       "\n",
       "    .dataframe tbody tr th {\n",
       "        vertical-align: top;\n",
       "    }\n",
       "\n",
       "    .dataframe thead th {\n",
       "        text-align: right;\n",
       "    }\n",
       "</style>\n",
       "<table border=\"1\" class=\"dataframe\">\n",
       "  <thead>\n",
       "    <tr style=\"text-align: right;\">\n",
       "      <th></th>\n",
       "      <th>SEVERITYCODE</th>\n",
       "      <th>OBJECTID</th>\n",
       "      <th>ADDRTYPE</th>\n",
       "      <th>COLLISIONTYPE</th>\n",
       "      <th>PERSONCOUNT</th>\n",
       "      <th>PEDCOUNT</th>\n",
       "      <th>PEDCYLCOUNT</th>\n",
       "      <th>VEHCOUNT</th>\n",
       "      <th>JUNCTIONTYPE</th>\n",
       "      <th>INATTENTIONIND</th>\n",
       "      <th>UNDERINFL</th>\n",
       "      <th>WEATHER</th>\n",
       "      <th>ROADCOND</th>\n",
       "      <th>LIGHTCOND</th>\n",
       "      <th>PEDROWNOTGRNT</th>\n",
       "      <th>SPEEDING</th>\n",
       "      <th>ST_COLCODE</th>\n",
       "      <th>HITPARKEDCAR</th>\n",
       "    </tr>\n",
       "  </thead>\n",
       "  <tbody>\n",
       "    <tr>\n",
       "      <th>0</th>\n",
       "      <td>2</td>\n",
       "      <td>1</td>\n",
       "      <td>Intersection</td>\n",
       "      <td>Angles</td>\n",
       "      <td>2</td>\n",
       "      <td>0</td>\n",
       "      <td>0</td>\n",
       "      <td>2</td>\n",
       "      <td>At Intersection (intersection related)</td>\n",
       "      <td>0</td>\n",
       "      <td>0</td>\n",
       "      <td>Overcast</td>\n",
       "      <td>Wet</td>\n",
       "      <td>Daylight</td>\n",
       "      <td>0</td>\n",
       "      <td>0</td>\n",
       "      <td>10</td>\n",
       "      <td>0</td>\n",
       "    </tr>\n",
       "    <tr>\n",
       "      <th>1</th>\n",
       "      <td>1</td>\n",
       "      <td>2</td>\n",
       "      <td>Block</td>\n",
       "      <td>Sideswipe</td>\n",
       "      <td>2</td>\n",
       "      <td>0</td>\n",
       "      <td>0</td>\n",
       "      <td>2</td>\n",
       "      <td>Mid-Block (not related to intersection)</td>\n",
       "      <td>0</td>\n",
       "      <td>0</td>\n",
       "      <td>Raining</td>\n",
       "      <td>Wet</td>\n",
       "      <td>Dark - Street Lights On</td>\n",
       "      <td>0</td>\n",
       "      <td>0</td>\n",
       "      <td>11</td>\n",
       "      <td>0</td>\n",
       "    </tr>\n",
       "    <tr>\n",
       "      <th>2</th>\n",
       "      <td>1</td>\n",
       "      <td>3</td>\n",
       "      <td>Block</td>\n",
       "      <td>Parked Car</td>\n",
       "      <td>4</td>\n",
       "      <td>0</td>\n",
       "      <td>0</td>\n",
       "      <td>3</td>\n",
       "      <td>Mid-Block (not related to intersection)</td>\n",
       "      <td>0</td>\n",
       "      <td>0</td>\n",
       "      <td>Overcast</td>\n",
       "      <td>Dry</td>\n",
       "      <td>Daylight</td>\n",
       "      <td>0</td>\n",
       "      <td>0</td>\n",
       "      <td>32</td>\n",
       "      <td>0</td>\n",
       "    </tr>\n",
       "    <tr>\n",
       "      <th>3</th>\n",
       "      <td>1</td>\n",
       "      <td>4</td>\n",
       "      <td>Block</td>\n",
       "      <td>Other</td>\n",
       "      <td>3</td>\n",
       "      <td>0</td>\n",
       "      <td>0</td>\n",
       "      <td>3</td>\n",
       "      <td>Mid-Block (not related to intersection)</td>\n",
       "      <td>0</td>\n",
       "      <td>0</td>\n",
       "      <td>Clear</td>\n",
       "      <td>Dry</td>\n",
       "      <td>Daylight</td>\n",
       "      <td>0</td>\n",
       "      <td>0</td>\n",
       "      <td>23</td>\n",
       "      <td>0</td>\n",
       "    </tr>\n",
       "    <tr>\n",
       "      <th>4</th>\n",
       "      <td>2</td>\n",
       "      <td>5</td>\n",
       "      <td>Intersection</td>\n",
       "      <td>Angles</td>\n",
       "      <td>2</td>\n",
       "      <td>0</td>\n",
       "      <td>0</td>\n",
       "      <td>2</td>\n",
       "      <td>At Intersection (intersection related)</td>\n",
       "      <td>0</td>\n",
       "      <td>0</td>\n",
       "      <td>Raining</td>\n",
       "      <td>Wet</td>\n",
       "      <td>Daylight</td>\n",
       "      <td>0</td>\n",
       "      <td>0</td>\n",
       "      <td>10</td>\n",
       "      <td>0</td>\n",
       "    </tr>\n",
       "  </tbody>\n",
       "</table>\n",
       "</div>"
      ],
      "text/plain": [
       "   SEVERITYCODE  OBJECTID      ADDRTYPE COLLISIONTYPE  PERSONCOUNT  PEDCOUNT  \\\n",
       "0             2         1  Intersection        Angles            2         0   \n",
       "1             1         2         Block     Sideswipe            2         0   \n",
       "2             1         3         Block    Parked Car            4         0   \n",
       "3             1         4         Block         Other            3         0   \n",
       "4             2         5  Intersection        Angles            2         0   \n",
       "\n",
       "   PEDCYLCOUNT  VEHCOUNT                             JUNCTIONTYPE  \\\n",
       "0            0         2   At Intersection (intersection related)   \n",
       "1            0         2  Mid-Block (not related to intersection)   \n",
       "2            0         3  Mid-Block (not related to intersection)   \n",
       "3            0         3  Mid-Block (not related to intersection)   \n",
       "4            0         2   At Intersection (intersection related)   \n",
       "\n",
       "   INATTENTIONIND  UNDERINFL   WEATHER ROADCOND                LIGHTCOND  \\\n",
       "0               0          0  Overcast      Wet                 Daylight   \n",
       "1               0          0   Raining      Wet  Dark - Street Lights On   \n",
       "2               0          0  Overcast      Dry                 Daylight   \n",
       "3               0          0     Clear      Dry                 Daylight   \n",
       "4               0          0   Raining      Wet                 Daylight   \n",
       "\n",
       "   PEDROWNOTGRNT  SPEEDING ST_COLCODE  HITPARKEDCAR  \n",
       "0              0         0         10             0  \n",
       "1              0         0         11             0  \n",
       "2              0         0         32             0  \n",
       "3              0         0         23             0  \n",
       "4              0         0         10             0  "
      ]
     },
     "execution_count": 25,
     "metadata": {},
     "output_type": "execute_result"
    }
   ],
   "source": [
    "df['UNDERINFL'].replace(to_replace= ['N', 'Y'], value=[0, 1], inplace = True)\n",
    "df['UNDERINFL'].replace(to_replace= ['0', '1'], value=[0, 1], inplace = True)\n",
    "df['PEDROWNOTGRNT'].replace(to_replace= ['N', 'Y'], value=[0, 1], inplace = True)\n",
    "df['INATTENTIONIND'].replace(to_replace= ['N', 'Y'], value=[0, 1], inplace = True)\n",
    "df['SPEEDING'].replace(to_replace= ['N', 'Y'], value=[0, 1], inplace = True)\n",
    "df['HITPARKEDCAR'].replace(to_replace= ['N', 'Y'], value=[0, 1], inplace = True)\n",
    "df.head()"
   ]
  },
  {
   "cell_type": "code",
   "execution_count": 26,
   "metadata": {},
   "outputs": [
    {
     "data": {
      "text/plain": [
       "SEVERITYCODE      0\n",
       "OBJECTID          0\n",
       "ADDRTYPE          0\n",
       "COLLISIONTYPE     0\n",
       "PERSONCOUNT       0\n",
       "PEDCOUNT          0\n",
       "PEDCYLCOUNT       0\n",
       "VEHCOUNT          0\n",
       "JUNCTIONTYPE      0\n",
       "INATTENTIONIND    0\n",
       "UNDERINFL         0\n",
       "WEATHER           0\n",
       "ROADCOND          0\n",
       "LIGHTCOND         0\n",
       "PEDROWNOTGRNT     0\n",
       "SPEEDING          0\n",
       "ST_COLCODE        0\n",
       "HITPARKEDCAR      0\n",
       "dtype: int64"
      ]
     },
     "execution_count": 26,
     "metadata": {},
     "output_type": "execute_result"
    }
   ],
   "source": [
    "df.isnull().sum()"
   ]
  },
  {
   "cell_type": "code",
   "execution_count": 27,
   "metadata": {},
   "outputs": [
    {
     "data": {
      "text/html": [
       "<div>\n",
       "<style scoped>\n",
       "    .dataframe tbody tr th:only-of-type {\n",
       "        vertical-align: middle;\n",
       "    }\n",
       "\n",
       "    .dataframe tbody tr th {\n",
       "        vertical-align: top;\n",
       "    }\n",
       "\n",
       "    .dataframe thead th {\n",
       "        text-align: right;\n",
       "    }\n",
       "</style>\n",
       "<table border=\"1\" class=\"dataframe\">\n",
       "  <thead>\n",
       "    <tr style=\"text-align: right;\">\n",
       "      <th></th>\n",
       "      <th>SEVERITYCODE</th>\n",
       "      <th>OBJECTID</th>\n",
       "      <th>PERSONCOUNT</th>\n",
       "      <th>PEDCOUNT</th>\n",
       "      <th>PEDCYLCOUNT</th>\n",
       "      <th>VEHCOUNT</th>\n",
       "      <th>INATTENTIONIND</th>\n",
       "      <th>UNDERINFL</th>\n",
       "      <th>PEDROWNOTGRNT</th>\n",
       "      <th>SPEEDING</th>\n",
       "      <th>HITPARKEDCAR</th>\n",
       "    </tr>\n",
       "  </thead>\n",
       "  <tbody>\n",
       "    <tr>\n",
       "      <th>SEVERITYCODE</th>\n",
       "      <td>1.000000</td>\n",
       "      <td>0.037631</td>\n",
       "      <td>0.123792</td>\n",
       "      <td>0.244164</td>\n",
       "      <td>0.213477</td>\n",
       "      <td>-0.079848</td>\n",
       "      <td>0.040400</td>\n",
       "      <td>0.039705</td>\n",
       "      <td>0.206038</td>\n",
       "      <td>0.033914</td>\n",
       "      <td>-0.087120</td>\n",
       "    </tr>\n",
       "    <tr>\n",
       "      <th>OBJECTID</th>\n",
       "      <td>0.037631</td>\n",
       "      <td>1.000000</td>\n",
       "      <td>-0.046983</td>\n",
       "      <td>0.031364</td>\n",
       "      <td>0.041562</td>\n",
       "      <td>-0.013972</td>\n",
       "      <td>0.116935</td>\n",
       "      <td>0.004772</td>\n",
       "      <td>-0.008160</td>\n",
       "      <td>-0.031894</td>\n",
       "      <td>0.222185</td>\n",
       "    </tr>\n",
       "    <tr>\n",
       "      <th>PERSONCOUNT</th>\n",
       "      <td>0.123792</td>\n",
       "      <td>-0.046983</td>\n",
       "      <td>1.000000</td>\n",
       "      <td>-0.026629</td>\n",
       "      <td>-0.042534</td>\n",
       "      <td>0.399715</td>\n",
       "      <td>0.071111</td>\n",
       "      <td>0.018098</td>\n",
       "      <td>-0.031731</td>\n",
       "      <td>-0.007835</td>\n",
       "      <td>-0.042441</td>\n",
       "    </tr>\n",
       "    <tr>\n",
       "      <th>PEDCOUNT</th>\n",
       "      <td>0.244164</td>\n",
       "      <td>0.031364</td>\n",
       "      <td>-0.026629</td>\n",
       "      <td>1.000000</td>\n",
       "      <td>-0.018562</td>\n",
       "      <td>-0.315981</td>\n",
       "      <td>-0.008240</td>\n",
       "      <td>0.014795</td>\n",
       "      <td>0.496801</td>\n",
       "      <td>-0.035003</td>\n",
       "      <td>-0.031187</td>\n",
       "    </tr>\n",
       "    <tr>\n",
       "      <th>PEDCYLCOUNT</th>\n",
       "      <td>0.213477</td>\n",
       "      <td>0.041562</td>\n",
       "      <td>-0.042534</td>\n",
       "      <td>-0.018562</td>\n",
       "      <td>1.000000</td>\n",
       "      <td>-0.306282</td>\n",
       "      <td>0.001044</td>\n",
       "      <td>-0.018475</td>\n",
       "      <td>0.325585</td>\n",
       "      <td>-0.022378</td>\n",
       "      <td>-0.027379</td>\n",
       "    </tr>\n",
       "    <tr>\n",
       "      <th>VEHCOUNT</th>\n",
       "      <td>-0.079848</td>\n",
       "      <td>-0.013972</td>\n",
       "      <td>0.399715</td>\n",
       "      <td>-0.315981</td>\n",
       "      <td>-0.306282</td>\n",
       "      <td>1.000000</td>\n",
       "      <td>0.051240</td>\n",
       "      <td>-0.011347</td>\n",
       "      <td>-0.277556</td>\n",
       "      <td>-0.048845</td>\n",
       "      <td>0.073987</td>\n",
       "    </tr>\n",
       "    <tr>\n",
       "      <th>INATTENTIONIND</th>\n",
       "      <td>0.040400</td>\n",
       "      <td>0.116935</td>\n",
       "      <td>0.071111</td>\n",
       "      <td>-0.008240</td>\n",
       "      <td>0.001044</td>\n",
       "      <td>0.051240</td>\n",
       "      <td>1.000000</td>\n",
       "      <td>-0.030593</td>\n",
       "      <td>-0.030380</td>\n",
       "      <td>-0.054071</td>\n",
       "      <td>0.019401</td>\n",
       "    </tr>\n",
       "    <tr>\n",
       "      <th>UNDERINFL</th>\n",
       "      <td>0.039705</td>\n",
       "      <td>0.004772</td>\n",
       "      <td>0.018098</td>\n",
       "      <td>0.014795</td>\n",
       "      <td>-0.018475</td>\n",
       "      <td>-0.011347</td>\n",
       "      <td>-0.030593</td>\n",
       "      <td>1.000000</td>\n",
       "      <td>-0.019470</td>\n",
       "      <td>0.090495</td>\n",
       "      <td>0.022893</td>\n",
       "    </tr>\n",
       "    <tr>\n",
       "      <th>PEDROWNOTGRNT</th>\n",
       "      <td>0.206038</td>\n",
       "      <td>-0.008160</td>\n",
       "      <td>-0.031731</td>\n",
       "      <td>0.496801</td>\n",
       "      <td>0.325585</td>\n",
       "      <td>-0.277556</td>\n",
       "      <td>-0.030380</td>\n",
       "      <td>-0.019470</td>\n",
       "      <td>1.000000</td>\n",
       "      <td>-0.030462</td>\n",
       "      <td>-0.027785</td>\n",
       "    </tr>\n",
       "    <tr>\n",
       "      <th>SPEEDING</th>\n",
       "      <td>0.033914</td>\n",
       "      <td>-0.031894</td>\n",
       "      <td>-0.007835</td>\n",
       "      <td>-0.035003</td>\n",
       "      <td>-0.022378</td>\n",
       "      <td>-0.048845</td>\n",
       "      <td>-0.054071</td>\n",
       "      <td>0.090495</td>\n",
       "      <td>-0.030462</td>\n",
       "      <td>1.000000</td>\n",
       "      <td>-0.022224</td>\n",
       "    </tr>\n",
       "    <tr>\n",
       "      <th>HITPARKEDCAR</th>\n",
       "      <td>-0.087120</td>\n",
       "      <td>0.222185</td>\n",
       "      <td>-0.042441</td>\n",
       "      <td>-0.031187</td>\n",
       "      <td>-0.027379</td>\n",
       "      <td>0.073987</td>\n",
       "      <td>0.019401</td>\n",
       "      <td>0.022893</td>\n",
       "      <td>-0.027785</td>\n",
       "      <td>-0.022224</td>\n",
       "      <td>1.000000</td>\n",
       "    </tr>\n",
       "  </tbody>\n",
       "</table>\n",
       "</div>"
      ],
      "text/plain": [
       "                SEVERITYCODE  OBJECTID  PERSONCOUNT  PEDCOUNT  PEDCYLCOUNT  \\\n",
       "SEVERITYCODE        1.000000  0.037631     0.123792  0.244164     0.213477   \n",
       "OBJECTID            0.037631  1.000000    -0.046983  0.031364     0.041562   \n",
       "PERSONCOUNT         0.123792 -0.046983     1.000000 -0.026629    -0.042534   \n",
       "PEDCOUNT            0.244164  0.031364    -0.026629  1.000000    -0.018562   \n",
       "PEDCYLCOUNT         0.213477  0.041562    -0.042534 -0.018562     1.000000   \n",
       "VEHCOUNT           -0.079848 -0.013972     0.399715 -0.315981    -0.306282   \n",
       "INATTENTIONIND      0.040400  0.116935     0.071111 -0.008240     0.001044   \n",
       "UNDERINFL           0.039705  0.004772     0.018098  0.014795    -0.018475   \n",
       "PEDROWNOTGRNT       0.206038 -0.008160    -0.031731  0.496801     0.325585   \n",
       "SPEEDING            0.033914 -0.031894    -0.007835 -0.035003    -0.022378   \n",
       "HITPARKEDCAR       -0.087120  0.222185    -0.042441 -0.031187    -0.027379   \n",
       "\n",
       "                VEHCOUNT  INATTENTIONIND  UNDERINFL  PEDROWNOTGRNT  SPEEDING  \\\n",
       "SEVERITYCODE   -0.079848        0.040400   0.039705       0.206038  0.033914   \n",
       "OBJECTID       -0.013972        0.116935   0.004772      -0.008160 -0.031894   \n",
       "PERSONCOUNT     0.399715        0.071111   0.018098      -0.031731 -0.007835   \n",
       "PEDCOUNT       -0.315981       -0.008240   0.014795       0.496801 -0.035003   \n",
       "PEDCYLCOUNT    -0.306282        0.001044  -0.018475       0.325585 -0.022378   \n",
       "VEHCOUNT        1.000000        0.051240  -0.011347      -0.277556 -0.048845   \n",
       "INATTENTIONIND  0.051240        1.000000  -0.030593      -0.030380 -0.054071   \n",
       "UNDERINFL      -0.011347       -0.030593   1.000000      -0.019470  0.090495   \n",
       "PEDROWNOTGRNT  -0.277556       -0.030380  -0.019470       1.000000 -0.030462   \n",
       "SPEEDING       -0.048845       -0.054071   0.090495      -0.030462  1.000000   \n",
       "HITPARKEDCAR    0.073987        0.019401   0.022893      -0.027785 -0.022224   \n",
       "\n",
       "                HITPARKEDCAR  \n",
       "SEVERITYCODE       -0.087120  \n",
       "OBJECTID            0.222185  \n",
       "PERSONCOUNT        -0.042441  \n",
       "PEDCOUNT           -0.031187  \n",
       "PEDCYLCOUNT        -0.027379  \n",
       "VEHCOUNT            0.073987  \n",
       "INATTENTIONIND      0.019401  \n",
       "UNDERINFL           0.022893  \n",
       "PEDROWNOTGRNT      -0.027785  \n",
       "SPEEDING           -0.022224  \n",
       "HITPARKEDCAR        1.000000  "
      ]
     },
     "execution_count": 27,
     "metadata": {},
     "output_type": "execute_result"
    }
   ],
   "source": [
    "df.corr()"
   ]
  },
  {
   "cell_type": "markdown",
   "metadata": {},
   "source": [
    "<h2> Visual Aids </h2>\n",
    "<p> With the data cleaned, various initial graphs are created to get a sense of the impact that each column may have on the severity of the accident. This is to assess if there are any immediate trends, as well as identify if any of the selected columns aren't useful in the ML models. </p>"
   ]
  },
  {
   "cell_type": "code",
   "execution_count": 28,
   "metadata": {},
   "outputs": [
    {
     "data": {
      "image/png": "[encoded data removed]",
      "text/plain": [
       "<Figure size 432x288 with 1 Axes>"
      ]
     },
     "metadata": {
      "needs_background": "light"
     },
     "output_type": "display_data"
    }
   ],
   "source": [
    "ax = sns.countplot(y=\"JUNCTIONTYPE\", hue=\"SEVERITYCODE\", data=df)\n",
    "ax.set_xticklabels(ax.get_xticklabels(), rotation=90)\n",
    "plt.legend(loc='lower right')\n",
    "plt.show()"
   ]
  },
  {
   "cell_type": "code",
   "execution_count": 29,
   "metadata": {},
   "outputs": [
    {
     "data": {
      "image/png": "[encoded data removed]",
      "text/plain": [
       "<Figure size 432x288 with 1 Axes>"
      ]
     },
     "metadata": {
      "needs_background": "light"
     },
     "output_type": "display_data"
    }
   ],
   "source": [
    "ax = sns.countplot(y=\"LIGHTCOND\", hue=\"SEVERITYCODE\", data=df)\n",
    "ax.set_xticklabels(ax.get_xticklabels(), rotation=90)\n",
    "plt.legend(loc='lower right')\n",
    "plt.show()"
   ]
  },
  {
   "cell_type": "code",
   "execution_count": 30,
   "metadata": {},
   "outputs": [
    {
     "data": {
      "image/png": "[encoded data removed]",
      "text/plain": [
       "<Figure size 432x288 with 1 Axes>"
      ]
     },
     "metadata": {
      "needs_background": "light"
     },
     "output_type": "display_data"
    }
   ],
   "source": [
    "ax = sns.countplot(y=\"WEATHER\", hue=\"SEVERITYCODE\", data=df)\n",
    "ax.set_xticklabels(ax.get_xticklabels(), rotation=90)\n",
    "plt.legend(loc='lower right')\n",
    "plt.show()"
   ]
  },
  {
   "cell_type": "code",
   "execution_count": 31,
   "metadata": {},
   "outputs": [
    {
     "data": {
      "image/png": "[encoded data removed]",
      "text/plain": [
       "<Figure size 432x288 with 1 Axes>"
      ]
     },
     "metadata": {
      "needs_background": "light"
     },
     "output_type": "display_data"
    }
   ],
   "source": [
    "ax = sns.countplot(y=\"ROADCOND\", hue=\"SEVERITYCODE\", data=df)\n",
    "ax.set_xticklabels(ax.get_xticklabels(), rotation=90)\n",
    "plt.legend(loc='lower right')\n",
    "plt.show()"
   ]
  },
  {
   "cell_type": "code",
   "execution_count": 32,
   "metadata": {},
   "outputs": [
    {
     "data": {
      "image/png": "[encoded data removed]",
      "text/plain": [
       "<Figure size 432x288 with 1 Axes>"
      ]
     },
     "metadata": {
      "needs_background": "light"
     },
     "output_type": "display_data"
    }
   ],
   "source": [
    "ax = sns.countplot(y=\"SPEEDING\", hue=\"SEVERITYCODE\", data=df)\n",
    "ax.set_xticklabels(ax.get_xticklabels(), rotation=90)\n",
    "plt.legend(loc='lower right')\n",
    "plt.show()"
   ]
  },
  {
   "cell_type": "code",
   "execution_count": 33,
   "metadata": {},
   "outputs": [
    {
     "data": {
      "image/png": "[encoded data removed]",
      "text/plain": [
       "<Figure size 432x288 with 1 Axes>"
      ]
     },
     "metadata": {
      "needs_background": "light"
     },
     "output_type": "display_data"
    }
   ],
   "source": [
    "ax = sns.countplot(y=\"PEDROWNOTGRNT\", hue=\"SEVERITYCODE\", data=df)\n",
    "ax.set_xticklabels(ax.get_xticklabels(), rotation=90)\n",
    "plt.legend(loc='lower right')\n",
    "plt.show()"
   ]
  },
  {
   "cell_type": "code",
   "execution_count": null,
   "metadata": {},
   "outputs": [],
   "source": []
  },
  {
   "cell_type": "code",
   "execution_count": null,
   "metadata": {},
   "outputs": [],
   "source": []
  },
  {
   "cell_type": "code",
   "execution_count": null,
   "metadata": {},
   "outputs": [],
   "source": []
  },
  {
   "cell_type": "code",
   "execution_count": 36,
   "metadata": {},
   "outputs": [
    {
     "data": {
      "text/plain": [
       "['At Intersection (intersection related)',\n",
       " 'Mid-Block (not related to intersection)',\n",
       " 'Driveway Junction',\n",
       " 'Mid-Block (but intersection related)',\n",
       " 'At Intersection (but not related to intersection)',\n",
       " 'Ramp Junction',\n",
       " 'Unknown']"
      ]
     },
     "execution_count": 36,
     "metadata": {},
     "output_type": "execute_result"
    }
   ],
   "source": [
    "df['JUNCTIONTYPE'].unique().tolist()"
   ]
  },
  {
   "cell_type": "code",
   "execution_count": 37,
   "metadata": {},
   "outputs": [
    {
     "data": {
      "text/plain": [
       "['Intersection', 'Block', 'Alley']"
      ]
     },
     "execution_count": 37,
     "metadata": {},
     "output_type": "execute_result"
    }
   ],
   "source": [
    "df['ADDRTYPE'].unique().tolist()"
   ]
  },
  {
   "cell_type": "code",
   "execution_count": 38,
   "metadata": {},
   "outputs": [
    {
     "data": {
      "text/plain": [
       "['Daylight',\n",
       " 'Dark - Street Lights On',\n",
       " 'Dark - No Street Lights',\n",
       " 'Unknown',\n",
       " 'Dusk',\n",
       " 'Dawn',\n",
       " 'Dark - Street Lights Off',\n",
       " 'Other',\n",
       " 'Dark - Unknown Lighting']"
      ]
     },
     "execution_count": 38,
     "metadata": {},
     "output_type": "execute_result"
    }
   ],
   "source": [
    "df['LIGHTCOND'].unique().tolist()"
   ]
  },
  {
   "cell_type": "code",
   "execution_count": 39,
   "metadata": {},
   "outputs": [
    {
     "data": {
      "text/plain": [
       "['Wet',\n",
       " 'Dry',\n",
       " 'Unknown',\n",
       " 'Snow/Slush',\n",
       " 'Ice',\n",
       " 'Other',\n",
       " 'Sand/Mud/Dirt',\n",
       " 'Standing Water',\n",
       " 'Oil']"
      ]
     },
     "execution_count": 39,
     "metadata": {},
     "output_type": "execute_result"
    }
   ],
   "source": [
    "df['ROADCOND'].unique().tolist()"
   ]
  },
  {
   "cell_type": "code",
   "execution_count": 40,
   "metadata": {},
   "outputs": [
    {
     "data": {
      "text/plain": [
       "['Angles',\n",
       " 'Sideswipe',\n",
       " 'Parked Car',\n",
       " 'Other',\n",
       " 'Cycles',\n",
       " 'Rear Ended',\n",
       " 'Head On',\n",
       " 'Left Turn',\n",
       " 'Pedestrian',\n",
       " 'Right Turn']"
      ]
     },
     "execution_count": 40,
     "metadata": {},
     "output_type": "execute_result"
    }
   ],
   "source": [
    "df['COLLISIONTYPE'].unique().tolist()"
   ]
  },
  {
   "cell_type": "code",
   "execution_count": 41,
   "metadata": {},
   "outputs": [
    {
     "data": {
      "text/plain": [
       "['Overcast',\n",
       " 'Raining',\n",
       " 'Clear',\n",
       " 'Unknown',\n",
       " 'Other',\n",
       " 'Snowing',\n",
       " 'Fog/Smog/Smoke',\n",
       " 'Sleet/Hail/Freezing Rain',\n",
       " 'Blowing Sand/Dirt',\n",
       " 'Severe Crosswind',\n",
       " 'Partly Cloudy']"
      ]
     },
     "execution_count": 41,
     "metadata": {},
     "output_type": "execute_result"
    }
   ],
   "source": [
    "df['WEATHER'].unique().tolist()"
   ]
  },
  {
   "cell_type": "code",
   "execution_count": 42,
   "metadata": {},
   "outputs": [
    {
     "data": {
      "text/html": [
       "<div>\n",
       "<style scoped>\n",
       "    .dataframe tbody tr th:only-of-type {\n",
       "        vertical-align: middle;\n",
       "    }\n",
       "\n",
       "    .dataframe tbody tr th {\n",
       "        vertical-align: top;\n",
       "    }\n",
       "\n",
       "    .dataframe thead th {\n",
       "        text-align: right;\n",
       "    }\n",
       "</style>\n",
       "<table border=\"1\" class=\"dataframe\">\n",
       "  <thead>\n",
       "    <tr style=\"text-align: right;\">\n",
       "      <th></th>\n",
       "      <th>OBJECTID</th>\n",
       "      <th>PERSONCOUNT</th>\n",
       "      <th>PEDCOUNT</th>\n",
       "      <th>PEDCYLCOUNT</th>\n",
       "      <th>VEHCOUNT</th>\n",
       "      <th>INATTENTIONIND</th>\n",
       "      <th>UNDERINFL</th>\n",
       "      <th>PEDROWNOTGRNT</th>\n",
       "      <th>SPEEDING</th>\n",
       "      <th>ST_COLCODE</th>\n",
       "      <th>...</th>\n",
       "      <th>LIGHTCOND_Dark - Unknown Lighting</th>\n",
       "      <th>LIGHTCOND_Dawn</th>\n",
       "      <th>LIGHTCOND_Daylight</th>\n",
       "      <th>LIGHTCOND_Dusk</th>\n",
       "      <th>JUNCTIONTYPE_At Intersection (but not related to intersection)</th>\n",
       "      <th>JUNCTIONTYPE_At Intersection (intersection related)</th>\n",
       "      <th>JUNCTIONTYPE_Driveway Junction</th>\n",
       "      <th>JUNCTIONTYPE_Mid-Block (but intersection related)</th>\n",
       "      <th>JUNCTIONTYPE_Mid-Block (not related to intersection)</th>\n",
       "      <th>JUNCTIONTYPE_Ramp Junction</th>\n",
       "    </tr>\n",
       "  </thead>\n",
       "  <tbody>\n",
       "    <tr>\n",
       "      <th>0</th>\n",
       "      <td>1</td>\n",
       "      <td>2</td>\n",
       "      <td>0</td>\n",
       "      <td>0</td>\n",
       "      <td>2</td>\n",
       "      <td>0</td>\n",
       "      <td>0</td>\n",
       "      <td>0</td>\n",
       "      <td>0</td>\n",
       "      <td>10</td>\n",
       "      <td>...</td>\n",
       "      <td>0</td>\n",
       "      <td>0</td>\n",
       "      <td>1</td>\n",
       "      <td>0</td>\n",
       "      <td>0</td>\n",
       "      <td>1</td>\n",
       "      <td>0</td>\n",
       "      <td>0</td>\n",
       "      <td>0</td>\n",
       "      <td>0</td>\n",
       "    </tr>\n",
       "    <tr>\n",
       "      <th>1</th>\n",
       "      <td>2</td>\n",
       "      <td>2</td>\n",
       "      <td>0</td>\n",
       "      <td>0</td>\n",
       "      <td>2</td>\n",
       "      <td>0</td>\n",
       "      <td>0</td>\n",
       "      <td>0</td>\n",
       "      <td>0</td>\n",
       "      <td>11</td>\n",
       "      <td>...</td>\n",
       "      <td>0</td>\n",
       "      <td>0</td>\n",
       "      <td>0</td>\n",
       "      <td>0</td>\n",
       "      <td>0</td>\n",
       "      <td>0</td>\n",
       "      <td>0</td>\n",
       "      <td>0</td>\n",
       "      <td>1</td>\n",
       "      <td>0</td>\n",
       "    </tr>\n",
       "    <tr>\n",
       "      <th>2</th>\n",
       "      <td>3</td>\n",
       "      <td>4</td>\n",
       "      <td>0</td>\n",
       "      <td>0</td>\n",
       "      <td>3</td>\n",
       "      <td>0</td>\n",
       "      <td>0</td>\n",
       "      <td>0</td>\n",
       "      <td>0</td>\n",
       "      <td>32</td>\n",
       "      <td>...</td>\n",
       "      <td>0</td>\n",
       "      <td>0</td>\n",
       "      <td>1</td>\n",
       "      <td>0</td>\n",
       "      <td>0</td>\n",
       "      <td>0</td>\n",
       "      <td>0</td>\n",
       "      <td>0</td>\n",
       "      <td>1</td>\n",
       "      <td>0</td>\n",
       "    </tr>\n",
       "    <tr>\n",
       "      <th>3</th>\n",
       "      <td>4</td>\n",
       "      <td>3</td>\n",
       "      <td>0</td>\n",
       "      <td>0</td>\n",
       "      <td>3</td>\n",
       "      <td>0</td>\n",
       "      <td>0</td>\n",
       "      <td>0</td>\n",
       "      <td>0</td>\n",
       "      <td>23</td>\n",
       "      <td>...</td>\n",
       "      <td>0</td>\n",
       "      <td>0</td>\n",
       "      <td>1</td>\n",
       "      <td>0</td>\n",
       "      <td>0</td>\n",
       "      <td>0</td>\n",
       "      <td>0</td>\n",
       "      <td>0</td>\n",
       "      <td>1</td>\n",
       "      <td>0</td>\n",
       "    </tr>\n",
       "    <tr>\n",
       "      <th>4</th>\n",
       "      <td>5</td>\n",
       "      <td>2</td>\n",
       "      <td>0</td>\n",
       "      <td>0</td>\n",
       "      <td>2</td>\n",
       "      <td>0</td>\n",
       "      <td>0</td>\n",
       "      <td>0</td>\n",
       "      <td>0</td>\n",
       "      <td>10</td>\n",
       "      <td>...</td>\n",
       "      <td>0</td>\n",
       "      <td>0</td>\n",
       "      <td>1</td>\n",
       "      <td>0</td>\n",
       "      <td>0</td>\n",
       "      <td>1</td>\n",
       "      <td>0</td>\n",
       "      <td>0</td>\n",
       "      <td>0</td>\n",
       "      <td>0</td>\n",
       "    </tr>\n",
       "  </tbody>\n",
       "</table>\n",
       "<p>5 rows × 52 columns</p>\n",
       "</div>"
      ],
      "text/plain": [
       "   OBJECTID  PERSONCOUNT  PEDCOUNT  PEDCYLCOUNT  VEHCOUNT  INATTENTIONIND  \\\n",
       "0         1            2         0            0         2               0   \n",
       "1         2            2         0            0         2               0   \n",
       "2         3            4         0            0         3               0   \n",
       "3         4            3         0            0         3               0   \n",
       "4         5            2         0            0         2               0   \n",
       "\n",
       "   UNDERINFL  PEDROWNOTGRNT  SPEEDING ST_COLCODE  ...  \\\n",
       "0          0              0         0         10  ...   \n",
       "1          0              0         0         11  ...   \n",
       "2          0              0         0         32  ...   \n",
       "3          0              0         0         23  ...   \n",
       "4          0              0         0         10  ...   \n",
       "\n",
       "   LIGHTCOND_Dark - Unknown Lighting  LIGHTCOND_Dawn  LIGHTCOND_Daylight  \\\n",
       "0                                  0               0                   1   \n",
       "1                                  0               0                   0   \n",
       "2                                  0               0                   1   \n",
       "3                                  0               0                   1   \n",
       "4                                  0               0                   1   \n",
       "\n",
       "   LIGHTCOND_Dusk  \\\n",
       "0               0   \n",
       "1               0   \n",
       "2               0   \n",
       "3               0   \n",
       "4               0   \n",
       "\n",
       "   JUNCTIONTYPE_At Intersection (but not related to intersection)  \\\n",
       "0                                                  0                \n",
       "1                                                  0                \n",
       "2                                                  0                \n",
       "3                                                  0                \n",
       "4                                                  0                \n",
       "\n",
       "   JUNCTIONTYPE_At Intersection (intersection related)  \\\n",
       "0                                                  1     \n",
       "1                                                  0     \n",
       "2                                                  0     \n",
       "3                                                  0     \n",
       "4                                                  1     \n",
       "\n",
       "   JUNCTIONTYPE_Driveway Junction  \\\n",
       "0                               0   \n",
       "1                               0   \n",
       "2                               0   \n",
       "3                               0   \n",
       "4                               0   \n",
       "\n",
       "   JUNCTIONTYPE_Mid-Block (but intersection related)  \\\n",
       "0                                                  0   \n",
       "1                                                  0   \n",
       "2                                                  0   \n",
       "3                                                  0   \n",
       "4                                                  0   \n",
       "\n",
       "   JUNCTIONTYPE_Mid-Block (not related to intersection)  \\\n",
       "0                                                  0      \n",
       "1                                                  1      \n",
       "2                                                  1      \n",
       "3                                                  1      \n",
       "4                                                  0      \n",
       "\n",
       "   JUNCTIONTYPE_Ramp Junction  \n",
       "0                           0  \n",
       "1                           0  \n",
       "2                           0  \n",
       "3                           0  \n",
       "4                           0  \n",
       "\n",
       "[5 rows x 52 columns]"
      ]
     },
     "execution_count": 42,
     "metadata": {},
     "output_type": "execute_result"
    }
   ],
   "source": [
    "Feature = df[['OBJECTID','PERSONCOUNT','PEDCOUNT','PEDCYLCOUNT','VEHCOUNT','INATTENTIONIND','UNDERINFL','PEDROWNOTGRNT','SPEEDING','ST_COLCODE','HITPARKEDCAR']]\n",
    "Feature = pd.concat([Feature,pd.get_dummies(df[['WEATHER','ADDRTYPE','COLLISIONTYPE','ROADCOND','LIGHTCOND','JUNCTIONTYPE']])], axis=1)\n",
    "Feature.drop(['LIGHTCOND_Unknown','ROADCOND_Unknown','ROADCOND_Other','WEATHER_Unknown','WEATHER_Other','LIGHTCOND_Other', 'COLLISIONTYPE_Other','JUNCTIONTYPE_Unknown'], axis = 1,inplace=True)\n",
    "Feature.head()"
   ]
  },
  {
   "cell_type": "markdown",
   "metadata": {},
   "source": [
    "<h2> Model Creation </h2>\n",
    "<p> With the data points all converted we can now begin to build and test various ML models </p>"
   ]
  },
  {
   "cell_type": "code",
   "execution_count": 43,
   "metadata": {},
   "outputs": [
    {
     "data": {
      "text/html": [
       "<div>\n",
       "<style scoped>\n",
       "    .dataframe tbody tr th:only-of-type {\n",
       "        vertical-align: middle;\n",
       "    }\n",
       "\n",
       "    .dataframe tbody tr th {\n",
       "        vertical-align: top;\n",
       "    }\n",
       "\n",
       "    .dataframe thead th {\n",
       "        text-align: right;\n",
       "    }\n",
       "</style>\n",
       "<table border=\"1\" class=\"dataframe\">\n",
       "  <thead>\n",
       "    <tr style=\"text-align: right;\">\n",
       "      <th></th>\n",
       "      <th>OBJECTID</th>\n",
       "      <th>PERSONCOUNT</th>\n",
       "      <th>PEDCOUNT</th>\n",
       "      <th>PEDCYLCOUNT</th>\n",
       "      <th>VEHCOUNT</th>\n",
       "      <th>INATTENTIONIND</th>\n",
       "      <th>UNDERINFL</th>\n",
       "      <th>PEDROWNOTGRNT</th>\n",
       "      <th>SPEEDING</th>\n",
       "      <th>ST_COLCODE</th>\n",
       "      <th>...</th>\n",
       "      <th>LIGHTCOND_Dark - Unknown Lighting</th>\n",
       "      <th>LIGHTCOND_Dawn</th>\n",
       "      <th>LIGHTCOND_Daylight</th>\n",
       "      <th>LIGHTCOND_Dusk</th>\n",
       "      <th>JUNCTIONTYPE_At Intersection (but not related to intersection)</th>\n",
       "      <th>JUNCTIONTYPE_At Intersection (intersection related)</th>\n",
       "      <th>JUNCTIONTYPE_Driveway Junction</th>\n",
       "      <th>JUNCTIONTYPE_Mid-Block (but intersection related)</th>\n",
       "      <th>JUNCTIONTYPE_Mid-Block (not related to intersection)</th>\n",
       "      <th>JUNCTIONTYPE_Ramp Junction</th>\n",
       "    </tr>\n",
       "  </thead>\n",
       "  <tbody>\n",
       "    <tr>\n",
       "      <th>0</th>\n",
       "      <td>1</td>\n",
       "      <td>2</td>\n",
       "      <td>0</td>\n",
       "      <td>0</td>\n",
       "      <td>2</td>\n",
       "      <td>0</td>\n",
       "      <td>0</td>\n",
       "      <td>0</td>\n",
       "      <td>0</td>\n",
       "      <td>10</td>\n",
       "      <td>...</td>\n",
       "      <td>0</td>\n",
       "      <td>0</td>\n",
       "      <td>1</td>\n",
       "      <td>0</td>\n",
       "      <td>0</td>\n",
       "      <td>1</td>\n",
       "      <td>0</td>\n",
       "      <td>0</td>\n",
       "      <td>0</td>\n",
       "      <td>0</td>\n",
       "    </tr>\n",
       "    <tr>\n",
       "      <th>1</th>\n",
       "      <td>2</td>\n",
       "      <td>2</td>\n",
       "      <td>0</td>\n",
       "      <td>0</td>\n",
       "      <td>2</td>\n",
       "      <td>0</td>\n",
       "      <td>0</td>\n",
       "      <td>0</td>\n",
       "      <td>0</td>\n",
       "      <td>11</td>\n",
       "      <td>...</td>\n",
       "      <td>0</td>\n",
       "      <td>0</td>\n",
       "      <td>0</td>\n",
       "      <td>0</td>\n",
       "      <td>0</td>\n",
       "      <td>0</td>\n",
       "      <td>0</td>\n",
       "      <td>0</td>\n",
       "      <td>1</td>\n",
       "      <td>0</td>\n",
       "    </tr>\n",
       "    <tr>\n",
       "      <th>2</th>\n",
       "      <td>3</td>\n",
       "      <td>4</td>\n",
       "      <td>0</td>\n",
       "      <td>0</td>\n",
       "      <td>3</td>\n",
       "      <td>0</td>\n",
       "      <td>0</td>\n",
       "      <td>0</td>\n",
       "      <td>0</td>\n",
       "      <td>32</td>\n",
       "      <td>...</td>\n",
       "      <td>0</td>\n",
       "      <td>0</td>\n",
       "      <td>1</td>\n",
       "      <td>0</td>\n",
       "      <td>0</td>\n",
       "      <td>0</td>\n",
       "      <td>0</td>\n",
       "      <td>0</td>\n",
       "      <td>1</td>\n",
       "      <td>0</td>\n",
       "    </tr>\n",
       "    <tr>\n",
       "      <th>3</th>\n",
       "      <td>4</td>\n",
       "      <td>3</td>\n",
       "      <td>0</td>\n",
       "      <td>0</td>\n",
       "      <td>3</td>\n",
       "      <td>0</td>\n",
       "      <td>0</td>\n",
       "      <td>0</td>\n",
       "      <td>0</td>\n",
       "      <td>23</td>\n",
       "      <td>...</td>\n",
       "      <td>0</td>\n",
       "      <td>0</td>\n",
       "      <td>1</td>\n",
       "      <td>0</td>\n",
       "      <td>0</td>\n",
       "      <td>0</td>\n",
       "      <td>0</td>\n",
       "      <td>0</td>\n",
       "      <td>1</td>\n",
       "      <td>0</td>\n",
       "    </tr>\n",
       "    <tr>\n",
       "      <th>4</th>\n",
       "      <td>5</td>\n",
       "      <td>2</td>\n",
       "      <td>0</td>\n",
       "      <td>0</td>\n",
       "      <td>2</td>\n",
       "      <td>0</td>\n",
       "      <td>0</td>\n",
       "      <td>0</td>\n",
       "      <td>0</td>\n",
       "      <td>10</td>\n",
       "      <td>...</td>\n",
       "      <td>0</td>\n",
       "      <td>0</td>\n",
       "      <td>1</td>\n",
       "      <td>0</td>\n",
       "      <td>0</td>\n",
       "      <td>1</td>\n",
       "      <td>0</td>\n",
       "      <td>0</td>\n",
       "      <td>0</td>\n",
       "      <td>0</td>\n",
       "    </tr>\n",
       "  </tbody>\n",
       "</table>\n",
       "<p>5 rows × 52 columns</p>\n",
       "</div>"
      ],
      "text/plain": [
       "   OBJECTID  PERSONCOUNT  PEDCOUNT  PEDCYLCOUNT  VEHCOUNT  INATTENTIONIND  \\\n",
       "0         1            2         0            0         2               0   \n",
       "1         2            2         0            0         2               0   \n",
       "2         3            4         0            0         3               0   \n",
       "3         4            3         0            0         3               0   \n",
       "4         5            2         0            0         2               0   \n",
       "\n",
       "   UNDERINFL  PEDROWNOTGRNT  SPEEDING ST_COLCODE  ...  \\\n",
       "0          0              0         0         10  ...   \n",
       "1          0              0         0         11  ...   \n",
       "2          0              0         0         32  ...   \n",
       "3          0              0         0         23  ...   \n",
       "4          0              0         0         10  ...   \n",
       "\n",
       "   LIGHTCOND_Dark - Unknown Lighting  LIGHTCOND_Dawn  LIGHTCOND_Daylight  \\\n",
       "0                                  0               0                   1   \n",
       "1                                  0               0                   0   \n",
       "2                                  0               0                   1   \n",
       "3                                  0               0                   1   \n",
       "4                                  0               0                   1   \n",
       "\n",
       "   LIGHTCOND_Dusk  \\\n",
       "0               0   \n",
       "1               0   \n",
       "2               0   \n",
       "3               0   \n",
       "4               0   \n",
       "\n",
       "   JUNCTIONTYPE_At Intersection (but not related to intersection)  \\\n",
       "0                                                  0                \n",
       "1                                                  0                \n",
       "2                                                  0                \n",
       "3                                                  0                \n",
       "4                                                  0                \n",
       "\n",
       "   JUNCTIONTYPE_At Intersection (intersection related)  \\\n",
       "0                                                  1     \n",
       "1                                                  0     \n",
       "2                                                  0     \n",
       "3                                                  0     \n",
       "4                                                  1     \n",
       "\n",
       "   JUNCTIONTYPE_Driveway Junction  \\\n",
       "0                               0   \n",
       "1                               0   \n",
       "2                               0   \n",
       "3                               0   \n",
       "4                               0   \n",
       "\n",
       "   JUNCTIONTYPE_Mid-Block (but intersection related)  \\\n",
       "0                                                  0   \n",
       "1                                                  0   \n",
       "2                                                  0   \n",
       "3                                                  0   \n",
       "4                                                  0   \n",
       "\n",
       "   JUNCTIONTYPE_Mid-Block (not related to intersection)  \\\n",
       "0                                                  0      \n",
       "1                                                  1      \n",
       "2                                                  1      \n",
       "3                                                  1      \n",
       "4                                                  0      \n",
       "\n",
       "   JUNCTIONTYPE_Ramp Junction  \n",
       "0                           0  \n",
       "1                           0  \n",
       "2                           0  \n",
       "3                           0  \n",
       "4                           0  \n",
       "\n",
       "[5 rows x 52 columns]"
      ]
     },
     "execution_count": 43,
     "metadata": {},
     "output_type": "execute_result"
    }
   ],
   "source": [
    "X = Feature\n",
    "X[0:5]"
   ]
  },
  {
   "cell_type": "code",
   "execution_count": 44,
   "metadata": {},
   "outputs": [
    {
     "data": {
      "text/plain": [
       "(181066,)"
      ]
     },
     "execution_count": 44,
     "metadata": {},
     "output_type": "execute_result"
    }
   ],
   "source": [
    "y = df['SEVERITYCODE'].values\n",
    "y[0:5]\n",
    "y.shape"
   ]
  },
  {
   "cell_type": "code",
   "execution_count": 45,
   "metadata": {},
   "outputs": [
    {
     "name": "stderr",
     "output_type": "stream",
     "text": [
      "/opt/conda/envs/Python36/lib/python3.6/site-packages/sklearn/preprocessing/data.py:645: DataConversionWarning: Data with input dtype uint8, int64, object were all converted to float64 by StandardScaler.\n",
      "  return self.partial_fit(X, y)\n",
      "/opt/conda/envs/Python36/lib/python3.6/site-packages/ipykernel/__main__.py:1: DataConversionWarning: Data with input dtype uint8, int64, object were all converted to float64 by StandardScaler.\n",
      "  if __name__ == '__main__':\n"
     ]
    },
    {
     "data": {
      "text/plain": [
       "(181066, 52)"
      ]
     },
     "execution_count": 45,
     "metadata": {},
     "output_type": "execute_result"
    }
   ],
   "source": [
    "X= preprocessing.StandardScaler().fit(X).transform(X)\n",
    "X[0:5]\n",
    "X.shape"
   ]
  },
  {
   "cell_type": "code",
   "execution_count": 46,
   "metadata": {},
   "outputs": [],
   "source": [
    "# important imports\n",
    "from sklearn.model_selection import train_test_split\n",
    "from sklearn.linear_model import LogisticRegression\n",
    "from sklearn.ensemble import RandomForestClassifier\n",
    "from sklearn.naive_bayes import GaussianNB\n",
    "from sklearn.ensemble import GradientBoostingClassifier\n",
    "from sklearn.metrics import confusion_matrix, classification_report\n",
    "from sklearn.metrics import accuracy_score \n",
    "from sklearn.metrics import jaccard_similarity_score\n",
    "from sklearn.metrics import f1_score"
   ]
  },
  {
   "cell_type": "code",
   "execution_count": 47,
   "metadata": {},
   "outputs": [
    {
     "name": "stdout",
     "output_type": "stream",
     "text": [
      "Train set: (144852, 52) (144852,)\n",
      "Test set: (36214, 52) (36214,)\n"
     ]
    }
   ],
   "source": [
    "from sklearn.model_selection import train_test_split\n",
    "X_train, X_test, y_train, y_test = train_test_split( X, y, test_size=0.2, random_state=4)\n",
    "print ('Train set:', X_train.shape,  y_train.shape)\n",
    "print ('Test set:', X_test.shape,  y_test.shape)"
   ]
  },
  {
   "cell_type": "code",
   "execution_count": 48,
   "metadata": {},
   "outputs": [],
   "source": [
    "# function to generate confusion matrix\n",
    "def get_confusion(cm, title):\n",
    "    plt.figure(figsize=(10,6))\n",
    "    ax1 = sns.heatmap(cm, annot=True, cmap=\"Blues\", annot_kws = {\"size\": 14}, fmt='g')\n",
    "    ax1.set_xlabel('Predicted', fontsize = 14, labelpad=20)\n",
    "    ax1.set_ylabel('True', fontsize = 14, rotation='horizontal', labelpad=40)\n",
    "    ax1.set_xticklabels(labels=['Severity 1', 'Severity 2'], fontsize = 14)\n",
    "    ax1.set_yticklabels(labels=['Severity 1', 'Severity 2'], fontsize = 14)\n",
    "    ax1.set_title(title, fontsize = 18, pad = 20)\n",
    "    ax1.collections[0].colorbar.ax.tick_params(labelsize=14)\n",
    "plt.show()"
   ]
  },
  {
   "cell_type": "code",
   "execution_count": null,
   "metadata": {},
   "outputs": [],
   "source": []
  },
  {
   "cell_type": "code",
   "execution_count": null,
   "metadata": {},
   "outputs": [],
   "source": []
  },
  {
   "cell_type": "markdown",
   "metadata": {},
   "source": [
    "<h1> Random Forest </h1> "
   ]
  },
  {
   "cell_type": "code",
   "execution_count": 49,
   "metadata": {},
   "outputs": [
    {
     "name": "stdout",
     "output_type": "stream",
     "text": [
      "Accuracy score of Decision tree model is:  0.6939581377367868\n",
      "F1 score of Decision tree model is:  0.6923305438390784\n"
     ]
    }
   ],
   "source": [
    "rf1 = RandomForestClassifier(n_estimators=100)\n",
    "rf1.fit(X_train, y_train)\n",
    "y1_pred_rf = rf1.predict(X_test)\n",
    "\n",
    "print('Accuracy score of Decision tree model is: ', jaccard_similarity_score(y1_pred_rf, y_test))\n",
    "print('F1 score of Decision tree model is: ', f1_score(y_true=y_test, y_pred=y1_pred_rf, average='weighted'))"
   ]
  },
  {
   "cell_type": "code",
   "execution_count": 50,
   "metadata": {},
   "outputs": [
    {
     "data": {
      "image/png": "[encoded data removed]",
      "text/plain": [
       "<Figure size 720x432 with 2 Axes>"
      ]
     },
     "metadata": {
      "needs_background": "light"
     },
     "output_type": "display_data"
    }
   ],
   "source": [
    "cm1_rf = confusion_matrix(y_test, y1_pred_rf)\n",
    "get_confusion(cm1_rf, title='Confusion Matrix Random Forest')"
   ]
  },
  {
   "cell_type": "markdown",
   "metadata": {},
   "source": [
    "<h1> Decision Tree </h1>"
   ]
  },
  {
   "cell_type": "code",
   "execution_count": 51,
   "metadata": {},
   "outputs": [
    {
     "name": "stdout",
     "output_type": "stream",
     "text": [
      "Accuracy score of Decision tree model is:  0.6789915502291931\n",
      "F1 score of Decision tree model is:  0.6796620200207505\n"
     ]
    }
   ],
   "source": [
    "from sklearn.tree import DecisionTreeClassifier\n",
    "tree1 = DecisionTreeClassifier(criterion='entropy', max_depth=None)\n",
    "tree1.fit(X_train, y_train)\n",
    "tree_pred = tree1.predict(X_test)\n",
    "\n",
    "print('Accuracy score of Decision tree model is: ', jaccard_similarity_score(tree_pred, y_test))\n",
    "print('F1 score of Decision tree model is: ', f1_score(y_true=y_test, y_pred=tree_pred, average='weighted'))"
   ]
  },
  {
   "cell_type": "code",
   "execution_count": null,
   "metadata": {},
   "outputs": [],
   "source": [
    "\n"
   ]
  },
  {
   "cell_type": "code",
   "execution_count": 52,
   "metadata": {},
   "outputs": [
    {
     "data": {
      "image/png": "[encoded data removed]",
      "text/plain": [
       "<Figure size 720x432 with 2 Axes>"
      ]
     },
     "metadata": {
      "needs_background": "light"
     },
     "output_type": "display_data"
    }
   ],
   "source": [
    "cm2_dt = confusion_matrix(y_test, tree_pred)\n",
    "get_confusion(cm2_dt, title='Confusion Matrix Decision Tree')"
   ]
  },
  {
   "cell_type": "markdown",
   "metadata": {},
   "source": [
    "<h1> Logistic Regression </h1>"
   ]
  },
  {
   "cell_type": "code",
   "execution_count": 53,
   "metadata": {},
   "outputs": [
    {
     "name": "stdout",
     "output_type": "stream",
     "text": [
      "For solver type: lbfgs, the log loss is: 0.4940229313482146\n"
     ]
    },
    {
     "name": "stderr",
     "output_type": "stream",
     "text": [
      "/opt/conda/envs/Python36/lib/python3.6/site-packages/sklearn/linear_model/sag.py:334: ConvergenceWarning: The max_iter was reached which means the coef_ did not converge\n",
      "  \"the coef_ did not converge\", ConvergenceWarning)\n"
     ]
    },
    {
     "name": "stdout",
     "output_type": "stream",
     "text": [
      "For solver type: saga, the log loss is: 0.4940452772217265\n",
      "For solver type: liblinear, the log loss is: 0.4940265861030323\n",
      "For solver type: newton-cg, the log loss is: 0.494023706622321\n",
      "For solver type: sag, the log loss is: 0.49402716053654205\n"
     ]
    },
    {
     "name": "stderr",
     "output_type": "stream",
     "text": [
      "/opt/conda/envs/Python36/lib/python3.6/site-packages/sklearn/linear_model/sag.py:334: ConvergenceWarning: The max_iter was reached which means the coef_ did not converge\n",
      "  \"the coef_ did not converge\", ConvergenceWarning)\n"
     ]
    }
   ],
   "source": [
    "from sklearn.linear_model import LogisticRegression\n",
    "from sklearn.metrics import log_loss\n",
    "\n",
    "for n in ('lbfgs', 'saga', 'liblinear', 'newton-cg', 'sag'):\n",
    "    loanLR = LogisticRegression(C=0.01, solver=n).fit(X_train,y_train)\n",
    "    yhat = loanLR.predict(X_test)\n",
    "    yhat_prob = loanLR.predict_proba(X_test)\n",
    "    print(\"For solver type: {}, the log loss is: {}\".format(n,log_loss(y_test, yhat_prob)))"
   ]
  },
  {
   "cell_type": "code",
   "execution_count": 54,
   "metadata": {},
   "outputs": [
    {
     "name": "stderr",
     "output_type": "stream",
     "text": [
      "/opt/conda/envs/Python36/lib/python3.6/site-packages/sklearn/linear_model/sag.py:334: ConvergenceWarning: The max_iter was reached which means the coef_ did not converge\n",
      "  \"the coef_ did not converge\", ConvergenceWarning)\n"
     ]
    }
   ],
   "source": [
    "loanLR = LogisticRegression(C=0.01, solver='saga').fit(X_train,y_train)\n",
    "yhatLR = loanLR.predict(X_test)\n",
    "yhatLR_prob = loanLR.predict_proba(X_test)"
   ]
  },
  {
   "cell_type": "code",
   "execution_count": 56,
   "metadata": {},
   "outputs": [
    {
     "name": "stdout",
     "output_type": "stream",
     "text": [
      "Jaccard Similarity: 0.7463135803832772\n",
      "F1 Score: 0.7090822347943164\n",
      "Log Loss: 0.4940453929421703\n"
     ]
    }
   ],
   "source": [
    "print('Jaccard Similarity:', jaccard_similarity_score(y_test, yhatLR))\n",
    "print('F1 Score:', f1_score(y_test, yhatLR, average='weighted'))\n",
    "print('Log Loss:', log_loss(y_test, yhatLR_prob))"
   ]
  },
  {
   "cell_type": "code",
   "execution_count": 57,
   "metadata": {},
   "outputs": [
    {
     "data": {
      "image/png": "[encoded data removed]",
      "text/plain": [
       "<Figure size 720x432 with 2 Axes>"
      ]
     },
     "metadata": {
      "needs_background": "light"
     },
     "output_type": "display_data"
    }
   ],
   "source": [
    "cm3_lr = confusion_matrix(y_test, yhatLR)\n",
    "get_confusion(cm3_lr, title='Confusion Matrix Logistic Regression')"
   ]
  },
  {
   "cell_type": "code",
   "execution_count": null,
   "metadata": {},
   "outputs": [],
   "source": []
  },
  {
   "cell_type": "markdown",
   "metadata": {},
   "source": [
    "<h1> Gradient Boost <h1>"
   ]
  },
  {
   "cell_type": "code",
   "execution_count": 58,
   "metadata": {},
   "outputs": [],
   "source": [
    "gb = GradientBoostingClassifier(random_state=0)\n",
    "gb.fit(X_train, y_train)\n",
    "y_pred_gb = gb.predict(X_test)"
   ]
  },
  {
   "cell_type": "code",
   "execution_count": 59,
   "metadata": {},
   "outputs": [
    {
     "name": "stdout",
     "output_type": "stream",
     "text": [
      "Jaccard Similarity: 0.7533826696857568\n",
      "F1 Score: 0.720768072449609\n"
     ]
    }
   ],
   "source": [
    "print('Jaccard Similarity:', jaccard_similarity_score(y_test, y_pred_gb))\n",
    "print('F1 Score:', f1_score(y_test, y_pred_gb, average='weighted'))"
   ]
  },
  {
   "cell_type": "code",
   "execution_count": 60,
   "metadata": {},
   "outputs": [
    {
     "data": {
      "image/png": "[encoded data removed]",
      "text/plain": [
       "<Figure size 720x432 with 2 Axes>"
      ]
     },
     "metadata": {
      "needs_background": "light"
     },
     "output_type": "display_data"
    }
   ],
   "source": [
    "cm_gb = confusion_matrix(y_test, y_pred_gb)\n",
    "get_confusion(cm_gb, title='Confusion Matrix Gradient Boost')"
   ]
  },
  {
   "cell_type": "markdown",
   "metadata": {},
   "source": [
    "<h2> Naive Bayes </h2>"
   ]
  },
  {
   "cell_type": "code",
   "execution_count": 61,
   "metadata": {},
   "outputs": [],
   "source": [
    "nb = GaussianNB()\n",
    "nb.fit(X_train, y_train)\n",
    "y_pred_nb = nb.predict(X_test)"
   ]
  },
  {
   "cell_type": "code",
   "execution_count": 62,
   "metadata": {},
   "outputs": [
    {
     "name": "stdout",
     "output_type": "stream",
     "text": [
      "Jaccard Similarity: 0.7392721047108853\n",
      "F1 Score: 0.6910216863593652\n"
     ]
    }
   ],
   "source": [
    "print('Jaccard Similarity:', jaccard_similarity_score(y_test, y_pred_nb))\n",
    "print('F1 Score:', f1_score(y_test, y_pred_nb, average='weighted'))"
   ]
  },
  {
   "cell_type": "code",
   "execution_count": 63,
   "metadata": {},
   "outputs": [
    {
     "data": {
      "image/png": "[encoded data removed]",
      "text/plain": [
       "<Figure size 720x432 with 2 Axes>"
      ]
     },
     "metadata": {
      "needs_background": "light"
     },
     "output_type": "display_data"
    }
   ],
   "source": [
    "cm_nb = confusion_matrix(y_test, y_pred_nb)\n",
    "get_confusion(cm_nb, title='Confusion Matrix Naive Bayes')"
   ]
  },
  {
   "cell_type": "markdown",
   "metadata": {},
   "source": [
    "<h1> Review of Models </h1>"
   ]
  },
  {
   "cell_type": "markdown",
   "metadata": {},
   "source": [
    "In this project, I built four predictive models to classify collisions severity based on several features, such as weather condition, road condition, number of persons and vehicles etc. All four models produced biased results towards severity 1 when I used all the training dataset. The reason behind this bias was unbalanced data. As such, to resolve the issue, under sampling was undertaken to drop the number of entries of the dominant category (Severity 1) until both categories had that same number of samples."
   ]
  },
  {
   "cell_type": "markdown",
   "metadata": {},
   "source": [
    "<h1> Under Sampling </h1>\n",
    "<p> To assess whether we can have improved accuracy from our models, the data undergoes under sampling and is then re tested for each model </p>"
   ]
  },
  {
   "cell_type": "code",
   "execution_count": 64,
   "metadata": {},
   "outputs": [
    {
     "name": "stdout",
     "output_type": "stream",
     "text": [
      "56432\n",
      "56432\n"
     ]
    },
    {
     "data": {
      "text/plain": [
       "(112864, 18)"
      ]
     },
     "execution_count": 64,
     "metadata": {},
     "output_type": "execute_result"
    }
   ],
   "source": [
    "severity_two_len = len(df[df['SEVERITYCODE']==2])\n",
    "print(severity_two_len)\n",
    "severity_one_indices = df[df['SEVERITYCODE']==1].index\n",
    "severity_two_indices = df[df['SEVERITYCODE']==2].index\n",
    "ran_severity_one_indices = np.random.choice(severity_one_indices, severity_two_len, replace=False)\n",
    "print(len(ran_severity_one_indices))\n",
    "final_indices = np.concatenate([ran_severity_one_indices, severity_two_indices])\n",
    "under_df=df.loc[final_indices]\n",
    "under_df.shape"
   ]
  },
  {
   "cell_type": "code",
   "execution_count": 70,
   "metadata": {},
   "outputs": [
    {
     "data": {
      "text/plain": [
       "SEVERITYCODE       int64\n",
       "OBJECTID           int64\n",
       "ADDRTYPE          object\n",
       "COLLISIONTYPE     object\n",
       "PERSONCOUNT        int64\n",
       "PEDCOUNT           int64\n",
       "PEDCYLCOUNT        int64\n",
       "VEHCOUNT           int64\n",
       "JUNCTIONTYPE      object\n",
       "INATTENTIONIND     int64\n",
       "UNDERINFL          int64\n",
       "WEATHER           object\n",
       "ROADCOND          object\n",
       "LIGHTCOND         object\n",
       "PEDROWNOTGRNT      int64\n",
       "SPEEDING           int64\n",
       "ST_COLCODE        object\n",
       "HITPARKEDCAR       int64\n",
       "dtype: object"
      ]
     },
     "execution_count": 70,
     "metadata": {},
     "output_type": "execute_result"
    }
   ],
   "source": [
    "under_df.dtypes"
   ]
  },
  {
   "cell_type": "code",
   "execution_count": 73,
   "metadata": {},
   "outputs": [
    {
     "data": {
      "text/html": [
       "<div>\n",
       "<style scoped>\n",
       "    .dataframe tbody tr th:only-of-type {\n",
       "        vertical-align: middle;\n",
       "    }\n",
       "\n",
       "    .dataframe tbody tr th {\n",
       "        vertical-align: top;\n",
       "    }\n",
       "\n",
       "    .dataframe thead th {\n",
       "        text-align: right;\n",
       "    }\n",
       "</style>\n",
       "<table border=\"1\" class=\"dataframe\">\n",
       "  <thead>\n",
       "    <tr style=\"text-align: right;\">\n",
       "      <th></th>\n",
       "      <th>OBJECTID</th>\n",
       "      <th>PERSONCOUNT</th>\n",
       "      <th>PEDCOUNT</th>\n",
       "      <th>PEDCYLCOUNT</th>\n",
       "      <th>VEHCOUNT</th>\n",
       "      <th>INATTENTIONIND</th>\n",
       "      <th>UNDERINFL</th>\n",
       "      <th>PEDROWNOTGRNT</th>\n",
       "      <th>SPEEDING</th>\n",
       "      <th>ST_COLCODE</th>\n",
       "      <th>...</th>\n",
       "      <th>LIGHTCOND_Dark - Unknown Lighting</th>\n",
       "      <th>LIGHTCOND_Dawn</th>\n",
       "      <th>LIGHTCOND_Daylight</th>\n",
       "      <th>LIGHTCOND_Dusk</th>\n",
       "      <th>JUNCTIONTYPE_At Intersection (but not related to intersection)</th>\n",
       "      <th>JUNCTIONTYPE_At Intersection (intersection related)</th>\n",
       "      <th>JUNCTIONTYPE_Driveway Junction</th>\n",
       "      <th>JUNCTIONTYPE_Mid-Block (but intersection related)</th>\n",
       "      <th>JUNCTIONTYPE_Mid-Block (not related to intersection)</th>\n",
       "      <th>JUNCTIONTYPE_Ramp Junction</th>\n",
       "    </tr>\n",
       "  </thead>\n",
       "  <tbody>\n",
       "    <tr>\n",
       "      <th>149254</th>\n",
       "      <td>165909</td>\n",
       "      <td>2</td>\n",
       "      <td>0</td>\n",
       "      <td>0</td>\n",
       "      <td>2</td>\n",
       "      <td>0</td>\n",
       "      <td>0</td>\n",
       "      <td>0</td>\n",
       "      <td>0</td>\n",
       "      <td>32</td>\n",
       "      <td>...</td>\n",
       "      <td>0</td>\n",
       "      <td>0</td>\n",
       "      <td>1</td>\n",
       "      <td>0</td>\n",
       "      <td>0</td>\n",
       "      <td>0</td>\n",
       "      <td>0</td>\n",
       "      <td>0</td>\n",
       "      <td>1</td>\n",
       "      <td>0</td>\n",
       "    </tr>\n",
       "    <tr>\n",
       "      <th>110003</th>\n",
       "      <td>121452</td>\n",
       "      <td>2</td>\n",
       "      <td>0</td>\n",
       "      <td>0</td>\n",
       "      <td>2</td>\n",
       "      <td>0</td>\n",
       "      <td>0</td>\n",
       "      <td>0</td>\n",
       "      <td>0</td>\n",
       "      <td>10</td>\n",
       "      <td>...</td>\n",
       "      <td>0</td>\n",
       "      <td>0</td>\n",
       "      <td>1</td>\n",
       "      <td>0</td>\n",
       "      <td>0</td>\n",
       "      <td>0</td>\n",
       "      <td>1</td>\n",
       "      <td>0</td>\n",
       "      <td>0</td>\n",
       "      <td>0</td>\n",
       "    </tr>\n",
       "    <tr>\n",
       "      <th>35523</th>\n",
       "      <td>40598</td>\n",
       "      <td>2</td>\n",
       "      <td>0</td>\n",
       "      <td>0</td>\n",
       "      <td>2</td>\n",
       "      <td>0</td>\n",
       "      <td>0</td>\n",
       "      <td>0</td>\n",
       "      <td>0</td>\n",
       "      <td>32</td>\n",
       "      <td>...</td>\n",
       "      <td>0</td>\n",
       "      <td>0</td>\n",
       "      <td>0</td>\n",
       "      <td>0</td>\n",
       "      <td>0</td>\n",
       "      <td>0</td>\n",
       "      <td>0</td>\n",
       "      <td>0</td>\n",
       "      <td>1</td>\n",
       "      <td>0</td>\n",
       "    </tr>\n",
       "    <tr>\n",
       "      <th>12554</th>\n",
       "      <td>15888</td>\n",
       "      <td>2</td>\n",
       "      <td>0</td>\n",
       "      <td>0</td>\n",
       "      <td>2</td>\n",
       "      <td>0</td>\n",
       "      <td>0</td>\n",
       "      <td>0</td>\n",
       "      <td>0</td>\n",
       "      <td>13</td>\n",
       "      <td>...</td>\n",
       "      <td>0</td>\n",
       "      <td>0</td>\n",
       "      <td>1</td>\n",
       "      <td>0</td>\n",
       "      <td>0</td>\n",
       "      <td>0</td>\n",
       "      <td>0</td>\n",
       "      <td>1</td>\n",
       "      <td>0</td>\n",
       "      <td>0</td>\n",
       "    </tr>\n",
       "    <tr>\n",
       "      <th>10024</th>\n",
       "      <td>12610</td>\n",
       "      <td>2</td>\n",
       "      <td>0</td>\n",
       "      <td>0</td>\n",
       "      <td>2</td>\n",
       "      <td>0</td>\n",
       "      <td>0</td>\n",
       "      <td>0</td>\n",
       "      <td>1</td>\n",
       "      <td>10</td>\n",
       "      <td>...</td>\n",
       "      <td>0</td>\n",
       "      <td>0</td>\n",
       "      <td>1</td>\n",
       "      <td>0</td>\n",
       "      <td>0</td>\n",
       "      <td>1</td>\n",
       "      <td>0</td>\n",
       "      <td>0</td>\n",
       "      <td>0</td>\n",
       "      <td>0</td>\n",
       "    </tr>\n",
       "  </tbody>\n",
       "</table>\n",
       "<p>5 rows × 52 columns</p>\n",
       "</div>"
      ],
      "text/plain": [
       "        OBJECTID  PERSONCOUNT  PEDCOUNT  PEDCYLCOUNT  VEHCOUNT  \\\n",
       "149254    165909            2         0            0         2   \n",
       "110003    121452            2         0            0         2   \n",
       "35523      40598            2         0            0         2   \n",
       "12554      15888            2         0            0         2   \n",
       "10024      12610            2         0            0         2   \n",
       "\n",
       "        INATTENTIONIND  UNDERINFL  PEDROWNOTGRNT  SPEEDING ST_COLCODE  ...  \\\n",
       "149254               0          0              0         0         32  ...   \n",
       "110003               0          0              0         0         10  ...   \n",
       "35523                0          0              0         0         32  ...   \n",
       "12554                0          0              0         0         13  ...   \n",
       "10024                0          0              0         1         10  ...   \n",
       "\n",
       "        LIGHTCOND_Dark - Unknown Lighting  LIGHTCOND_Dawn  LIGHTCOND_Daylight  \\\n",
       "149254                                  0               0                   1   \n",
       "110003                                  0               0                   1   \n",
       "35523                                   0               0                   0   \n",
       "12554                                   0               0                   1   \n",
       "10024                                   0               0                   1   \n",
       "\n",
       "        LIGHTCOND_Dusk  \\\n",
       "149254               0   \n",
       "110003               0   \n",
       "35523                0   \n",
       "12554                0   \n",
       "10024                0   \n",
       "\n",
       "        JUNCTIONTYPE_At Intersection (but not related to intersection)  \\\n",
       "149254                                                  0                \n",
       "110003                                                  0                \n",
       "35523                                                   0                \n",
       "12554                                                   0                \n",
       "10024                                                   0                \n",
       "\n",
       "        JUNCTIONTYPE_At Intersection (intersection related)  \\\n",
       "149254                                                  0     \n",
       "110003                                                  0     \n",
       "35523                                                   0     \n",
       "12554                                                   0     \n",
       "10024                                                   1     \n",
       "\n",
       "        JUNCTIONTYPE_Driveway Junction  \\\n",
       "149254                               0   \n",
       "110003                               1   \n",
       "35523                                0   \n",
       "12554                                0   \n",
       "10024                                0   \n",
       "\n",
       "        JUNCTIONTYPE_Mid-Block (but intersection related)  \\\n",
       "149254                                                  0   \n",
       "110003                                                  0   \n",
       "35523                                                   0   \n",
       "12554                                                   1   \n",
       "10024                                                   0   \n",
       "\n",
       "        JUNCTIONTYPE_Mid-Block (not related to intersection)  \\\n",
       "149254                                                  1      \n",
       "110003                                                  0      \n",
       "35523                                                   1      \n",
       "12554                                                   0      \n",
       "10024                                                   0      \n",
       "\n",
       "        JUNCTIONTYPE_Ramp Junction  \n",
       "149254                           0  \n",
       "110003                           0  \n",
       "35523                            0  \n",
       "12554                            0  \n",
       "10024                            0  \n",
       "\n",
       "[5 rows x 52 columns]"
      ]
     },
     "execution_count": 73,
     "metadata": {},
     "output_type": "execute_result"
    }
   ],
   "source": [
    "Feature = under_df[['OBJECTID','PERSONCOUNT','PEDCOUNT','PEDCYLCOUNT','VEHCOUNT','INATTENTIONIND','UNDERINFL','PEDROWNOTGRNT','SPEEDING','ST_COLCODE','HITPARKEDCAR']]\n",
    "Feature = pd.concat([Feature,pd.get_dummies(under_df[['WEATHER','ADDRTYPE','COLLISIONTYPE','ROADCOND','LIGHTCOND','JUNCTIONTYPE']])], axis=1)\n",
    "Feature.drop(['LIGHTCOND_Unknown','ROADCOND_Unknown','ROADCOND_Other','WEATHER_Unknown','WEATHER_Other','LIGHTCOND_Other', 'COLLISIONTYPE_Other','JUNCTIONTYPE_Unknown'], axis = 1,inplace=True)\n",
    "Feature.head()"
   ]
  },
  {
   "cell_type": "markdown",
   "metadata": {},
   "source": [
    "<h1> Re Modelling </h1>"
   ]
  },
  {
   "cell_type": "code",
   "execution_count": 74,
   "metadata": {},
   "outputs": [
    {
     "data": {
      "text/html": [
       "<div>\n",
       "<style scoped>\n",
       "    .dataframe tbody tr th:only-of-type {\n",
       "        vertical-align: middle;\n",
       "    }\n",
       "\n",
       "    .dataframe tbody tr th {\n",
       "        vertical-align: top;\n",
       "    }\n",
       "\n",
       "    .dataframe thead th {\n",
       "        text-align: right;\n",
       "    }\n",
       "</style>\n",
       "<table border=\"1\" class=\"dataframe\">\n",
       "  <thead>\n",
       "    <tr style=\"text-align: right;\">\n",
       "      <th></th>\n",
       "      <th>OBJECTID</th>\n",
       "      <th>PERSONCOUNT</th>\n",
       "      <th>PEDCOUNT</th>\n",
       "      <th>PEDCYLCOUNT</th>\n",
       "      <th>VEHCOUNT</th>\n",
       "      <th>INATTENTIONIND</th>\n",
       "      <th>UNDERINFL</th>\n",
       "      <th>PEDROWNOTGRNT</th>\n",
       "      <th>SPEEDING</th>\n",
       "      <th>ST_COLCODE</th>\n",
       "      <th>...</th>\n",
       "      <th>LIGHTCOND_Dark - Unknown Lighting</th>\n",
       "      <th>LIGHTCOND_Dawn</th>\n",
       "      <th>LIGHTCOND_Daylight</th>\n",
       "      <th>LIGHTCOND_Dusk</th>\n",
       "      <th>JUNCTIONTYPE_At Intersection (but not related to intersection)</th>\n",
       "      <th>JUNCTIONTYPE_At Intersection (intersection related)</th>\n",
       "      <th>JUNCTIONTYPE_Driveway Junction</th>\n",
       "      <th>JUNCTIONTYPE_Mid-Block (but intersection related)</th>\n",
       "      <th>JUNCTIONTYPE_Mid-Block (not related to intersection)</th>\n",
       "      <th>JUNCTIONTYPE_Ramp Junction</th>\n",
       "    </tr>\n",
       "  </thead>\n",
       "  <tbody>\n",
       "    <tr>\n",
       "      <th>149254</th>\n",
       "      <td>165909</td>\n",
       "      <td>2</td>\n",
       "      <td>0</td>\n",
       "      <td>0</td>\n",
       "      <td>2</td>\n",
       "      <td>0</td>\n",
       "      <td>0</td>\n",
       "      <td>0</td>\n",
       "      <td>0</td>\n",
       "      <td>32</td>\n",
       "      <td>...</td>\n",
       "      <td>0</td>\n",
       "      <td>0</td>\n",
       "      <td>1</td>\n",
       "      <td>0</td>\n",
       "      <td>0</td>\n",
       "      <td>0</td>\n",
       "      <td>0</td>\n",
       "      <td>0</td>\n",
       "      <td>1</td>\n",
       "      <td>0</td>\n",
       "    </tr>\n",
       "    <tr>\n",
       "      <th>110003</th>\n",
       "      <td>121452</td>\n",
       "      <td>2</td>\n",
       "      <td>0</td>\n",
       "      <td>0</td>\n",
       "      <td>2</td>\n",
       "      <td>0</td>\n",
       "      <td>0</td>\n",
       "      <td>0</td>\n",
       "      <td>0</td>\n",
       "      <td>10</td>\n",
       "      <td>...</td>\n",
       "      <td>0</td>\n",
       "      <td>0</td>\n",
       "      <td>1</td>\n",
       "      <td>0</td>\n",
       "      <td>0</td>\n",
       "      <td>0</td>\n",
       "      <td>1</td>\n",
       "      <td>0</td>\n",
       "      <td>0</td>\n",
       "      <td>0</td>\n",
       "    </tr>\n",
       "    <tr>\n",
       "      <th>35523</th>\n",
       "      <td>40598</td>\n",
       "      <td>2</td>\n",
       "      <td>0</td>\n",
       "      <td>0</td>\n",
       "      <td>2</td>\n",
       "      <td>0</td>\n",
       "      <td>0</td>\n",
       "      <td>0</td>\n",
       "      <td>0</td>\n",
       "      <td>32</td>\n",
       "      <td>...</td>\n",
       "      <td>0</td>\n",
       "      <td>0</td>\n",
       "      <td>0</td>\n",
       "      <td>0</td>\n",
       "      <td>0</td>\n",
       "      <td>0</td>\n",
       "      <td>0</td>\n",
       "      <td>0</td>\n",
       "      <td>1</td>\n",
       "      <td>0</td>\n",
       "    </tr>\n",
       "    <tr>\n",
       "      <th>12554</th>\n",
       "      <td>15888</td>\n",
       "      <td>2</td>\n",
       "      <td>0</td>\n",
       "      <td>0</td>\n",
       "      <td>2</td>\n",
       "      <td>0</td>\n",
       "      <td>0</td>\n",
       "      <td>0</td>\n",
       "      <td>0</td>\n",
       "      <td>13</td>\n",
       "      <td>...</td>\n",
       "      <td>0</td>\n",
       "      <td>0</td>\n",
       "      <td>1</td>\n",
       "      <td>0</td>\n",
       "      <td>0</td>\n",
       "      <td>0</td>\n",
       "      <td>0</td>\n",
       "      <td>1</td>\n",
       "      <td>0</td>\n",
       "      <td>0</td>\n",
       "    </tr>\n",
       "    <tr>\n",
       "      <th>10024</th>\n",
       "      <td>12610</td>\n",
       "      <td>2</td>\n",
       "      <td>0</td>\n",
       "      <td>0</td>\n",
       "      <td>2</td>\n",
       "      <td>0</td>\n",
       "      <td>0</td>\n",
       "      <td>0</td>\n",
       "      <td>1</td>\n",
       "      <td>10</td>\n",
       "      <td>...</td>\n",
       "      <td>0</td>\n",
       "      <td>0</td>\n",
       "      <td>1</td>\n",
       "      <td>0</td>\n",
       "      <td>0</td>\n",
       "      <td>1</td>\n",
       "      <td>0</td>\n",
       "      <td>0</td>\n",
       "      <td>0</td>\n",
       "      <td>0</td>\n",
       "    </tr>\n",
       "  </tbody>\n",
       "</table>\n",
       "<p>5 rows × 52 columns</p>\n",
       "</div>"
      ],
      "text/plain": [
       "        OBJECTID  PERSONCOUNT  PEDCOUNT  PEDCYLCOUNT  VEHCOUNT  \\\n",
       "149254    165909            2         0            0         2   \n",
       "110003    121452            2         0            0         2   \n",
       "35523      40598            2         0            0         2   \n",
       "12554      15888            2         0            0         2   \n",
       "10024      12610            2         0            0         2   \n",
       "\n",
       "        INATTENTIONIND  UNDERINFL  PEDROWNOTGRNT  SPEEDING ST_COLCODE  ...  \\\n",
       "149254               0          0              0         0         32  ...   \n",
       "110003               0          0              0         0         10  ...   \n",
       "35523                0          0              0         0         32  ...   \n",
       "12554                0          0              0         0         13  ...   \n",
       "10024                0          0              0         1         10  ...   \n",
       "\n",
       "        LIGHTCOND_Dark - Unknown Lighting  LIGHTCOND_Dawn  LIGHTCOND_Daylight  \\\n",
       "149254                                  0               0                   1   \n",
       "110003                                  0               0                   1   \n",
       "35523                                   0               0                   0   \n",
       "12554                                   0               0                   1   \n",
       "10024                                   0               0                   1   \n",
       "\n",
       "        LIGHTCOND_Dusk  \\\n",
       "149254               0   \n",
       "110003               0   \n",
       "35523                0   \n",
       "12554                0   \n",
       "10024                0   \n",
       "\n",
       "        JUNCTIONTYPE_At Intersection (but not related to intersection)  \\\n",
       "149254                                                  0                \n",
       "110003                                                  0                \n",
       "35523                                                   0                \n",
       "12554                                                   0                \n",
       "10024                                                   0                \n",
       "\n",
       "        JUNCTIONTYPE_At Intersection (intersection related)  \\\n",
       "149254                                                  0     \n",
       "110003                                                  0     \n",
       "35523                                                   0     \n",
       "12554                                                   0     \n",
       "10024                                                   1     \n",
       "\n",
       "        JUNCTIONTYPE_Driveway Junction  \\\n",
       "149254                               0   \n",
       "110003                               1   \n",
       "35523                                0   \n",
       "12554                                0   \n",
       "10024                                0   \n",
       "\n",
       "        JUNCTIONTYPE_Mid-Block (but intersection related)  \\\n",
       "149254                                                  0   \n",
       "110003                                                  0   \n",
       "35523                                                   0   \n",
       "12554                                                   1   \n",
       "10024                                                   0   \n",
       "\n",
       "        JUNCTIONTYPE_Mid-Block (not related to intersection)  \\\n",
       "149254                                                  1      \n",
       "110003                                                  0      \n",
       "35523                                                   1      \n",
       "12554                                                   0      \n",
       "10024                                                   0      \n",
       "\n",
       "        JUNCTIONTYPE_Ramp Junction  \n",
       "149254                           0  \n",
       "110003                           0  \n",
       "35523                            0  \n",
       "12554                            0  \n",
       "10024                            0  \n",
       "\n",
       "[5 rows x 52 columns]"
      ]
     },
     "execution_count": 74,
     "metadata": {},
     "output_type": "execute_result"
    }
   ],
   "source": [
    "X = Feature\n",
    "X[0:5]"
   ]
  },
  {
   "cell_type": "code",
   "execution_count": 76,
   "metadata": {},
   "outputs": [
    {
     "data": {
      "text/plain": [
       "(112864,)"
      ]
     },
     "execution_count": 76,
     "metadata": {},
     "output_type": "execute_result"
    }
   ],
   "source": [
    "y = under_df['SEVERITYCODE'].values\n",
    "y[0:5]\n",
    "y.shape"
   ]
  },
  {
   "cell_type": "code",
   "execution_count": 77,
   "metadata": {},
   "outputs": [
    {
     "name": "stderr",
     "output_type": "stream",
     "text": [
      "/opt/conda/envs/Python36/lib/python3.6/site-packages/sklearn/preprocessing/data.py:645: DataConversionWarning: Data with input dtype uint8, int64, object were all converted to float64 by StandardScaler.\n",
      "  return self.partial_fit(X, y)\n",
      "/opt/conda/envs/Python36/lib/python3.6/site-packages/ipykernel/__main__.py:1: DataConversionWarning: Data with input dtype uint8, int64, object were all converted to float64 by StandardScaler.\n",
      "  if __name__ == '__main__':\n"
     ]
    },
    {
     "data": {
      "text/plain": [
       "(112864, 52)"
      ]
     },
     "execution_count": 77,
     "metadata": {},
     "output_type": "execute_result"
    }
   ],
   "source": [
    "X= preprocessing.StandardScaler().fit(X).transform(X)\n",
    "X[0:5]\n",
    "X.shape"
   ]
  },
  {
   "cell_type": "code",
   "execution_count": 78,
   "metadata": {},
   "outputs": [
    {
     "name": "stdout",
     "output_type": "stream",
     "text": [
      "Train set: (90291, 52) (90291,)\n",
      "Test set: (22573, 52) (22573,)\n"
     ]
    }
   ],
   "source": [
    "X_train, X_test, y_train, y_test = train_test_split( X, y, test_size=0.2, random_state=4)\n",
    "print ('Train set:', X_train.shape,  y_train.shape)\n",
    "print ('Test set:', X_test.shape,  y_test.shape)"
   ]
  },
  {
   "cell_type": "markdown",
   "metadata": {},
   "source": [
    "<h1> Random Tree </h1>"
   ]
  },
  {
   "cell_type": "code",
   "execution_count": 79,
   "metadata": {},
   "outputs": [
    {
     "name": "stdout",
     "output_type": "stream",
     "text": [
      "Accuracy score of Decision tree model is:  0.6570238780844372\n",
      "F1 score of Decision tree model is:  0.6570214871438689\n"
     ]
    }
   ],
   "source": [
    "rf1 = RandomForestClassifier(n_estimators=100)\n",
    "rf1.fit(X_train, y_train)\n",
    "y1_pred_rf = rf1.predict(X_test)\n",
    "\n",
    "print('Accuracy score of Decision tree model is: ', jaccard_similarity_score(y1_pred_rf, y_test))\n",
    "print('F1 score of Decision tree model is: ', f1_score(y_true=y_test, y_pred=y1_pred_rf, average='weighted'))"
   ]
  },
  {
   "cell_type": "code",
   "execution_count": 80,
   "metadata": {},
   "outputs": [
    {
     "data": {
      "image/png": "[encoded data removed]",
      "text/plain": [
       "<Figure size 720x432 with 2 Axes>"
      ]
     },
     "metadata": {
      "needs_background": "light"
     },
     "output_type": "display_data"
    }
   ],
   "source": [
    "cm1_rf = confusion_matrix(y_test, y1_pred_rf)\n",
    "get_confusion(cm1_rf, title='Confusion Matrix Random Forest')"
   ]
  },
  {
   "cell_type": "markdown",
   "metadata": {},
   "source": [
    "<h1> Decision Tree </h1>"
   ]
  },
  {
   "cell_type": "code",
   "execution_count": null,
   "metadata": {},
   "outputs": [],
   "source": []
  },
  {
   "cell_type": "code",
   "execution_count": 81,
   "metadata": {},
   "outputs": [
    {
     "name": "stdout",
     "output_type": "stream",
     "text": [
      "Accuracy score of Decision tree model is:  0.6408984184645373\n",
      "F1 score of Decision tree model is:  0.6408981844823964\n"
     ]
    }
   ],
   "source": [
    "from sklearn.tree import DecisionTreeClassifier\n",
    "tree1 = DecisionTreeClassifier(criterion='entropy', max_depth=None)\n",
    "tree1.fit(X_train, y_train)\n",
    "tree_pred = tree1.predict(X_test)\n",
    "\n",
    "print('Accuracy score of Decision tree model is: ', jaccard_similarity_score(tree_pred, y_test))\n",
    "print('F1 score of Decision tree model is: ', f1_score(y_true=y_test, y_pred=tree_pred, average='weighted'))"
   ]
  },
  {
   "cell_type": "code",
   "execution_count": null,
   "metadata": {},
   "outputs": [],
   "source": []
  },
  {
   "cell_type": "code",
   "execution_count": 82,
   "metadata": {},
   "outputs": [
    {
     "data": {
      "image/png": "[encoded data removed]",
      "text/plain": [
       "<Figure size 720x432 with 2 Axes>"
      ]
     },
     "metadata": {
      "needs_background": "light"
     },
     "output_type": "display_data"
    }
   ],
   "source": [
    "cm2_dt = confusion_matrix(y_test, tree_pred)\n",
    "get_confusion(cm2_dt, title='Confusion Matrix Decision Tree')"
   ]
  },
  {
   "cell_type": "markdown",
   "metadata": {},
   "source": [
    "<h1> Logistic Regression </h1>"
   ]
  },
  {
   "cell_type": "code",
   "execution_count": null,
   "metadata": {},
   "outputs": [],
   "source": []
  },
  {
   "cell_type": "code",
   "execution_count": 83,
   "metadata": {},
   "outputs": [
    {
     "name": "stdout",
     "output_type": "stream",
     "text": [
      "For solver type: lbfgs, the log loss is: 0.5451021096616983\n"
     ]
    },
    {
     "name": "stderr",
     "output_type": "stream",
     "text": [
      "/opt/conda/envs/Python36/lib/python3.6/site-packages/sklearn/linear_model/sag.py:334: ConvergenceWarning: The max_iter was reached which means the coef_ did not converge\n",
      "  \"the coef_ did not converge\", ConvergenceWarning)\n"
     ]
    },
    {
     "name": "stdout",
     "output_type": "stream",
     "text": [
      "For solver type: saga, the log loss is: 0.5451148588514273\n",
      "For solver type: liblinear, the log loss is: 0.5451025863468549\n",
      "For solver type: newton-cg, the log loss is: 0.5451023248750592\n",
      "For solver type: sag, the log loss is: 0.5451043345248437\n"
     ]
    },
    {
     "name": "stderr",
     "output_type": "stream",
     "text": [
      "/opt/conda/envs/Python36/lib/python3.6/site-packages/sklearn/linear_model/sag.py:334: ConvergenceWarning: The max_iter was reached which means the coef_ did not converge\n",
      "  \"the coef_ did not converge\", ConvergenceWarning)\n"
     ]
    }
   ],
   "source": [
    "from sklearn.linear_model import LogisticRegression\n",
    "from sklearn.metrics import log_loss\n",
    "\n",
    "for n in ('lbfgs', 'saga', 'liblinear', 'newton-cg', 'sag'):\n",
    "    loanLR = LogisticRegression(C=0.01, solver=n).fit(X_train,y_train)\n",
    "    yhat = loanLR.predict(X_test)\n",
    "    yhat_prob = loanLR.predict_proba(X_test)\n",
    "    print(\"For solver type: {}, the log loss is: {}\".format(n,log_loss(y_test, yhat_prob)))"
   ]
  },
  {
   "cell_type": "code",
   "execution_count": 84,
   "metadata": {},
   "outputs": [
    {
     "name": "stderr",
     "output_type": "stream",
     "text": [
      "/opt/conda/envs/Python36/lib/python3.6/site-packages/sklearn/linear_model/sag.py:334: ConvergenceWarning: The max_iter was reached which means the coef_ did not converge\n",
      "  \"the coef_ did not converge\", ConvergenceWarning)\n"
     ]
    }
   ],
   "source": [
    "loanLR = LogisticRegression(C=0.01, solver='saga').fit(X_train,y_train)\n",
    "yhatLR = loanLR.predict(X_test)\n",
    "yhatLR_prob = loanLR.predict_proba(X_test)"
   ]
  },
  {
   "cell_type": "code",
   "execution_count": 85,
   "metadata": {},
   "outputs": [
    {
     "name": "stdout",
     "output_type": "stream",
     "text": [
      "Jaccard Similarity: 0.7010144863332299\n",
      "F1 Score: 0.6980395343467898\n",
      "Log Loss: 0.54511493509724\n"
     ]
    }
   ],
   "source": [
    "print('Jaccard Similarity:', jaccard_similarity_score(y_test, yhatLR))\n",
    "print('F1 Score:', f1_score(y_test, yhatLR, average='weighted'))\n",
    "print('Log Loss:', log_loss(y_test, yhatLR_prob))"
   ]
  },
  {
   "cell_type": "code",
   "execution_count": 86,
   "metadata": {},
   "outputs": [
    {
     "data": {
      "image/png": "[encoded data removed]",
      "text/plain": [
       "<Figure size 720x432 with 2 Axes>"
      ]
     },
     "metadata": {
      "needs_background": "light"
     },
     "output_type": "display_data"
    }
   ],
   "source": [
    "cm3_lr = confusion_matrix(y_test, yhatLR)\n",
    "get_confusion(cm3_lr, title='Confusion Matrix Logistic Regression')"
   ]
  },
  {
   "cell_type": "markdown",
   "metadata": {},
   "source": [
    "<h1> Gradient Boost </h1>"
   ]
  },
  {
   "cell_type": "code",
   "execution_count": 87,
   "metadata": {},
   "outputs": [],
   "source": [
    "gb = GradientBoostingClassifier(random_state=0)\n",
    "gb.fit(X_train, y_train)\n",
    "y_pred_gb = gb.predict(X_test)"
   ]
  },
  {
   "cell_type": "code",
   "execution_count": 88,
   "metadata": {},
   "outputs": [
    {
     "name": "stdout",
     "output_type": "stream",
     "text": [
      "Jaccard Similarity: 0.7161210295485757\n",
      "F1 Score: 0.71387165499706\n"
     ]
    }
   ],
   "source": [
    "print('Jaccard Similarity:', jaccard_similarity_score(y_test, y_pred_gb))\n",
    "print('F1 Score:', f1_score(y_test, y_pred_gb, average='weighted'))"
   ]
  },
  {
   "cell_type": "code",
   "execution_count": 89,
   "metadata": {},
   "outputs": [
    {
     "data": {
      "image/png": "[encoded data removed]",
      "text/plain": [
       "<Figure size 720x432 with 2 Axes>"
      ]
     },
     "metadata": {
      "needs_background": "light"
     },
     "output_type": "display_data"
    }
   ],
   "source": [
    "cm_gb = confusion_matrix(y_test, y_pred_gb)\n",
    "get_confusion(cm_gb, title='Confusion Matrix Gradient Boost')"
   ]
  },
  {
   "cell_type": "markdown",
   "metadata": {},
   "source": [
    "<h1> Naive Bayes </h1>"
   ]
  },
  {
   "cell_type": "code",
   "execution_count": 90,
   "metadata": {},
   "outputs": [],
   "source": [
    "nb = GaussianNB()\n",
    "nb.fit(X_train, y_train)\n",
    "y_pred_nb = nb.predict(X_test)"
   ]
  },
  {
   "cell_type": "code",
   "execution_count": 91,
   "metadata": {},
   "outputs": [
    {
     "name": "stdout",
     "output_type": "stream",
     "text": [
      "Jaccard Similarity: 0.6323483808089311\n",
      "F1 Score: 0.6055007477001966\n"
     ]
    }
   ],
   "source": [
    "print('Jaccard Similarity:', jaccard_similarity_score(y_test, y_pred_nb))\n",
    "print('F1 Score:', f1_score(y_test, y_pred_nb, average='weighted'))"
   ]
  },
  {
   "cell_type": "code",
   "execution_count": 92,
   "metadata": {},
   "outputs": [
    {
     "data": {
      "image/png": "[encoded data removed]",
      "text/plain": [
       "<Figure size 720x432 with 2 Axes>"
      ]
     },
     "metadata": {
      "needs_background": "light"
     },
     "output_type": "display_data"
    }
   ],
   "source": [
    "cm_nb = confusion_matrix(y_test, y_pred_nb)\n",
    "get_confusion(cm_nb, title='Confusion Matrix Naive Bayes')"
   ]
  },
  {
   "cell_type": "markdown",
   "metadata": {},
   "source": [
    "<h1> Conclusion </h1>"
   ]
  },
  {
   "cell_type": "markdown",
   "metadata": {},
   "source": [
    "After applying the under-sampling, the models performed better in making unbiased classification except for the Naïve Bayles model. While there were reductions across each model in Jaccard Similarity and F1 scores, as seen in Table 2, their performance in classifying Severity 2 increased dramatically, as seen in Figure 9. \n",
    "\n",
    "It has been observed that the ideal model to predict the Severity of the accident is the Gradient Boost model, with a Jaccard Similarity Score of 0.716 and F1 Score of 0.714.\n",
    "\n",
    "While the under sampling proved effective, it should be noted that a deeper consideration towards the connection between accidents in Seattle areas and any relevant supporting projects from the council may be show interesting connections to reduce the severity of accidents. "
   ]
  },
  {
   "cell_type": "code",
   "execution_count": null,
   "metadata": {},
   "outputs": [],
   "source": []
  }
 ],
 "metadata": {
  "kernelspec": {
   "display_name": "Python 3.6",
   "language": "python",
   "name": "python3"
  },
  "language_info": {
   "codemirror_mode": {
    "name": "ipython",
    "version": 3
   },
   "file_extension": ".py",
   "mimetype": "text/x-python",
   "name": "python",
   "nbconvert_exporter": "python",
   "pygments_lexer": "ipython3",
   "version": "3.6.9"
  }
 },
 "nbformat": 4,
 "nbformat_minor": 1
}
